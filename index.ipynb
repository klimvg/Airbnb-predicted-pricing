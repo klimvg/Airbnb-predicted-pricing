{
 "cells": [
  {
   "cell_type": "markdown",
   "id": "a8231d35",
   "metadata": {},
   "source": [
    "# Predicting AirBnb prices with machine learning algorithm\n",
    "\n",
    "## Overview\n",
    "This research is conducted on datasets obtained by Gyódi, Kristóf and Nawaro, Łukasz.\n",
    "\n",
    "This project focuses on predicting Airbnb prices in Europe using machine learning algorithm. Accurate price prediction is crucial for hosts to set competitive rates and maximize revenue, while travelers benefit from reliable estimates for budget planning. The Random Forest Regressor algorithm, known for its ensemble of decision trees, offers a robust solution. By analyzing historical data and considering factors like location, property type, and day of the week, the model can provide valuable insights into the factors influencing Airbnb prices. The project aims to benefit hosts and travelers in the European Airbnb market with accurate price predictions and informed decision-making.\n",
    "\n",
    "<b>The columns in the datasets:\n",
    "\n",
    "* realSum: the full price of accommodation for two people and two nights in EUR\n",
    "* room_type: the type of the accommodation \n",
    "* room_shared: dummy variable for shared rooms\n",
    "* room_private: dummy variable for private rooms\n",
    "* person_capacity: the maximum number of guests \n",
    "* host_is_superhost: dummy variable for superhost status\n",
    "* multi: dummy variable if the listing belongs to hosts with 2-4 offers\n",
    "* biz: dummy variable if the listing belongs to hosts with more than 4 offers\n",
    "* cleanliness_rating: cleanliness rating\n",
    "* guest_satisfaction_overall: overall rating of the listing\n",
    "* bedrooms: number of bedrooms (0 for studios)\n",
    "* dist: distance from city centre in km\n",
    "* metro_dist: distance from nearest metro station in km\n",
    "* attr_index: attraction index of the listing location\n",
    "* attr_index_norm: normalised attraction index (0-100)\n",
    "* rest_index: restaurant index of the listing location\n",
    "* attr_index_norm: normalised restaurant index (0-100)\n",
    "* lng: longitude of the listing location\n",
    "* lat: latitude of the listing location"
   ]
  },
  {
   "cell_type": "markdown",
   "id": "25f967e9",
   "metadata": {},
   "source": [
    "## Data inspection\n",
    "There are 20 csv files in this dataset. It is better to merge them in a single dataset to perform further research."
   ]
  },
  {
   "cell_type": "code",
   "execution_count": 53,
   "id": "25cb0212",
   "metadata": {},
   "outputs": [],
   "source": [
    "# Importing libraries\n",
    "import pandas as pd\n",
    "import numpy as np\n",
    "import os\n",
    "import re\n",
    "import matplotlib.pyplot as plt\n",
    "import seaborn as sns\n",
    "from sklearn.model_selection import train_test_split, GridSearchCV, RandomizedSearchCV\n",
    "from sklearn.ensemble import RandomForestRegressor\n",
    "from sklearn.metrics import mean_squared_error, r2_score"
   ]
  },
  {
   "cell_type": "code",
   "execution_count": 2,
   "id": "db500713",
   "metadata": {},
   "outputs": [],
   "source": [
    "# Assigning csv files path to a variable and initiating dataframes dictionary\n",
    "folder_path = 'archive'\n",
    "dataframes = {}"
   ]
  },
  {
   "cell_type": "code",
   "execution_count": 3,
   "id": "817365d2",
   "metadata": {},
   "outputs": [],
   "source": [
    "# Iterating through every csv file and storing it in a dictionary with file name as a key\n",
    "for file_name in os.listdir(folder_path):\n",
    "    if file_name.endswith('.csv'):\n",
    "        file_path = os.path.join(folder_path, file_name)\n",
    "        df = pd.read_csv(file_path)\n",
    "        dataframe_name = os.path.splitext(file_name)[0]\n",
    "        dataframes[dataframe_name] = df"
   ]
  },
  {
   "cell_type": "code",
   "execution_count": 4,
   "id": "4024b6fb",
   "metadata": {},
   "outputs": [],
   "source": [
    "# Creating a new column for each DataFrame with it's name\n",
    "for key in dataframes.keys():\n",
    "    dataframes[key]['geo'] = key"
   ]
  },
  {
   "cell_type": "code",
   "execution_count": 5,
   "id": "385bf53c",
   "metadata": {},
   "outputs": [],
   "source": [
    "# Concatenating dataframes\n",
    "df = pd.concat(dataframes.values()).reset_index()"
   ]
  },
  {
   "cell_type": "code",
   "execution_count": 6,
   "id": "71f44b34",
   "metadata": {},
   "outputs": [],
   "source": [
    "# Splitting file name into two columns: geography and time of the week\n",
    "df['week'] = df.geo.apply(lambda x: x.split('_')[1])\n",
    "df['geo'] = df.geo.apply(lambda x: x.split('_')[0])\n",
    "\n",
    "# Dropping columns\n",
    "df = df.drop(['index', 'Unnamed: 0'], axis=1)"
   ]
  },
  {
   "cell_type": "markdown",
   "id": "e17a2e31",
   "metadata": {},
   "source": [
    "***\n",
    "Now that we have a single dataframe, we can start data inspection"
   ]
  },
  {
   "cell_type": "code",
   "execution_count": 7,
   "id": "7b6fb38b",
   "metadata": {},
   "outputs": [
    {
     "data": {
      "text/html": [
       "<div>\n",
       "<style scoped>\n",
       "    .dataframe tbody tr th:only-of-type {\n",
       "        vertical-align: middle;\n",
       "    }\n",
       "\n",
       "    .dataframe tbody tr th {\n",
       "        vertical-align: top;\n",
       "    }\n",
       "\n",
       "    .dataframe thead th {\n",
       "        text-align: right;\n",
       "    }\n",
       "</style>\n",
       "<table border=\"1\" class=\"dataframe\">\n",
       "  <thead>\n",
       "    <tr style=\"text-align: right;\">\n",
       "      <th></th>\n",
       "      <th>realSum</th>\n",
       "      <th>room_type</th>\n",
       "      <th>room_shared</th>\n",
       "      <th>room_private</th>\n",
       "      <th>person_capacity</th>\n",
       "      <th>host_is_superhost</th>\n",
       "      <th>multi</th>\n",
       "      <th>biz</th>\n",
       "      <th>cleanliness_rating</th>\n",
       "      <th>guest_satisfaction_overall</th>\n",
       "      <th>...</th>\n",
       "      <th>dist</th>\n",
       "      <th>metro_dist</th>\n",
       "      <th>attr_index</th>\n",
       "      <th>attr_index_norm</th>\n",
       "      <th>rest_index</th>\n",
       "      <th>rest_index_norm</th>\n",
       "      <th>lng</th>\n",
       "      <th>lat</th>\n",
       "      <th>geo</th>\n",
       "      <th>week</th>\n",
       "    </tr>\n",
       "  </thead>\n",
       "  <tbody>\n",
       "    <tr>\n",
       "      <th>0</th>\n",
       "      <td>194.033698</td>\n",
       "      <td>Private room</td>\n",
       "      <td>False</td>\n",
       "      <td>True</td>\n",
       "      <td>2.0</td>\n",
       "      <td>False</td>\n",
       "      <td>1</td>\n",
       "      <td>0</td>\n",
       "      <td>10.0</td>\n",
       "      <td>93.0</td>\n",
       "      <td>...</td>\n",
       "      <td>5.022964</td>\n",
       "      <td>2.539380</td>\n",
       "      <td>78.690379</td>\n",
       "      <td>4.166708</td>\n",
       "      <td>98.253896</td>\n",
       "      <td>6.846473</td>\n",
       "      <td>4.90569</td>\n",
       "      <td>52.41772</td>\n",
       "      <td>amsterdam</td>\n",
       "      <td>weekdays</td>\n",
       "    </tr>\n",
       "    <tr>\n",
       "      <th>1</th>\n",
       "      <td>344.245776</td>\n",
       "      <td>Private room</td>\n",
       "      <td>False</td>\n",
       "      <td>True</td>\n",
       "      <td>4.0</td>\n",
       "      <td>False</td>\n",
       "      <td>0</td>\n",
       "      <td>0</td>\n",
       "      <td>8.0</td>\n",
       "      <td>85.0</td>\n",
       "      <td>...</td>\n",
       "      <td>0.488389</td>\n",
       "      <td>0.239404</td>\n",
       "      <td>631.176378</td>\n",
       "      <td>33.421209</td>\n",
       "      <td>837.280757</td>\n",
       "      <td>58.342928</td>\n",
       "      <td>4.90005</td>\n",
       "      <td>52.37432</td>\n",
       "      <td>amsterdam</td>\n",
       "      <td>weekdays</td>\n",
       "    </tr>\n",
       "    <tr>\n",
       "      <th>2</th>\n",
       "      <td>264.101422</td>\n",
       "      <td>Private room</td>\n",
       "      <td>False</td>\n",
       "      <td>True</td>\n",
       "      <td>2.0</td>\n",
       "      <td>False</td>\n",
       "      <td>0</td>\n",
       "      <td>1</td>\n",
       "      <td>9.0</td>\n",
       "      <td>87.0</td>\n",
       "      <td>...</td>\n",
       "      <td>5.748312</td>\n",
       "      <td>3.651621</td>\n",
       "      <td>75.275877</td>\n",
       "      <td>3.985908</td>\n",
       "      <td>95.386955</td>\n",
       "      <td>6.646700</td>\n",
       "      <td>4.97512</td>\n",
       "      <td>52.36103</td>\n",
       "      <td>amsterdam</td>\n",
       "      <td>weekdays</td>\n",
       "    </tr>\n",
       "    <tr>\n",
       "      <th>3</th>\n",
       "      <td>433.529398</td>\n",
       "      <td>Private room</td>\n",
       "      <td>False</td>\n",
       "      <td>True</td>\n",
       "      <td>4.0</td>\n",
       "      <td>False</td>\n",
       "      <td>0</td>\n",
       "      <td>1</td>\n",
       "      <td>9.0</td>\n",
       "      <td>90.0</td>\n",
       "      <td>...</td>\n",
       "      <td>0.384862</td>\n",
       "      <td>0.439876</td>\n",
       "      <td>493.272534</td>\n",
       "      <td>26.119108</td>\n",
       "      <td>875.033098</td>\n",
       "      <td>60.973565</td>\n",
       "      <td>4.89417</td>\n",
       "      <td>52.37663</td>\n",
       "      <td>amsterdam</td>\n",
       "      <td>weekdays</td>\n",
       "    </tr>\n",
       "    <tr>\n",
       "      <th>4</th>\n",
       "      <td>485.552926</td>\n",
       "      <td>Private room</td>\n",
       "      <td>False</td>\n",
       "      <td>True</td>\n",
       "      <td>2.0</td>\n",
       "      <td>True</td>\n",
       "      <td>0</td>\n",
       "      <td>0</td>\n",
       "      <td>10.0</td>\n",
       "      <td>98.0</td>\n",
       "      <td>...</td>\n",
       "      <td>0.544738</td>\n",
       "      <td>0.318693</td>\n",
       "      <td>552.830324</td>\n",
       "      <td>29.272733</td>\n",
       "      <td>815.305740</td>\n",
       "      <td>56.811677</td>\n",
       "      <td>4.90051</td>\n",
       "      <td>52.37508</td>\n",
       "      <td>amsterdam</td>\n",
       "      <td>weekdays</td>\n",
       "    </tr>\n",
       "  </tbody>\n",
       "</table>\n",
       "<p>5 rows × 21 columns</p>\n",
       "</div>"
      ],
      "text/plain": [
       "      realSum     room_type  room_shared  room_private  person_capacity  \\\n",
       "0  194.033698  Private room        False          True              2.0   \n",
       "1  344.245776  Private room        False          True              4.0   \n",
       "2  264.101422  Private room        False          True              2.0   \n",
       "3  433.529398  Private room        False          True              4.0   \n",
       "4  485.552926  Private room        False          True              2.0   \n",
       "\n",
       "   host_is_superhost  multi  biz  cleanliness_rating  \\\n",
       "0              False      1    0                10.0   \n",
       "1              False      0    0                 8.0   \n",
       "2              False      0    1                 9.0   \n",
       "3              False      0    1                 9.0   \n",
       "4               True      0    0                10.0   \n",
       "\n",
       "   guest_satisfaction_overall  ...      dist  metro_dist  attr_index  \\\n",
       "0                        93.0  ...  5.022964    2.539380   78.690379   \n",
       "1                        85.0  ...  0.488389    0.239404  631.176378   \n",
       "2                        87.0  ...  5.748312    3.651621   75.275877   \n",
       "3                        90.0  ...  0.384862    0.439876  493.272534   \n",
       "4                        98.0  ...  0.544738    0.318693  552.830324   \n",
       "\n",
       "   attr_index_norm  rest_index  rest_index_norm      lng       lat        geo  \\\n",
       "0         4.166708   98.253896         6.846473  4.90569  52.41772  amsterdam   \n",
       "1        33.421209  837.280757        58.342928  4.90005  52.37432  amsterdam   \n",
       "2         3.985908   95.386955         6.646700  4.97512  52.36103  amsterdam   \n",
       "3        26.119108  875.033098        60.973565  4.89417  52.37663  amsterdam   \n",
       "4        29.272733  815.305740        56.811677  4.90051  52.37508  amsterdam   \n",
       "\n",
       "       week  \n",
       "0  weekdays  \n",
       "1  weekdays  \n",
       "2  weekdays  \n",
       "3  weekdays  \n",
       "4  weekdays  \n",
       "\n",
       "[5 rows x 21 columns]"
      ]
     },
     "metadata": {},
     "output_type": "display_data"
    },
    {
     "name": "stdout",
     "output_type": "stream",
     "text": [
      "<class 'pandas.core.frame.DataFrame'>\n",
      "RangeIndex: 51707 entries, 0 to 51706\n",
      "Data columns (total 21 columns):\n",
      " #   Column                      Non-Null Count  Dtype  \n",
      "---  ------                      --------------  -----  \n",
      " 0   realSum                     51707 non-null  float64\n",
      " 1   room_type                   51707 non-null  object \n",
      " 2   room_shared                 51707 non-null  bool   \n",
      " 3   room_private                51707 non-null  bool   \n",
      " 4   person_capacity             51707 non-null  float64\n",
      " 5   host_is_superhost           51707 non-null  bool   \n",
      " 6   multi                       51707 non-null  int64  \n",
      " 7   biz                         51707 non-null  int64  \n",
      " 8   cleanliness_rating          51707 non-null  float64\n",
      " 9   guest_satisfaction_overall  51707 non-null  float64\n",
      " 10  bedrooms                    51707 non-null  int64  \n",
      " 11  dist                        51707 non-null  float64\n",
      " 12  metro_dist                  51707 non-null  float64\n",
      " 13  attr_index                  51707 non-null  float64\n",
      " 14  attr_index_norm             51707 non-null  float64\n",
      " 15  rest_index                  51707 non-null  float64\n",
      " 16  rest_index_norm             51707 non-null  float64\n",
      " 17  lng                         51707 non-null  float64\n",
      " 18  lat                         51707 non-null  float64\n",
      " 19  geo                         51707 non-null  object \n",
      " 20  week                        51707 non-null  object \n",
      "dtypes: bool(3), float64(12), int64(3), object(3)\n",
      "memory usage: 7.2+ MB\n"
     ]
    },
    {
     "data": {
      "text/plain": [
       "None"
      ]
     },
     "metadata": {},
     "output_type": "display_data"
    }
   ],
   "source": [
    "# Inspecting data\n",
    "display(df.head())\n",
    "display(df.info())"
   ]
  },
  {
   "cell_type": "markdown",
   "id": "47d0c949",
   "metadata": {},
   "source": [
    "We have 5107 observations with no missing values. Every column data type is corresponding to its feature."
   ]
  },
  {
   "cell_type": "code",
   "execution_count": 8,
   "id": "6027ea2d",
   "metadata": {
    "scrolled": true
   },
   "outputs": [
    {
     "data": {
      "text/plain": [
       "Entire home/apt    0.631404\n",
       "Private room       0.361518\n",
       "Shared room        0.007078\n",
       "Name: room_type, dtype: float64"
      ]
     },
     "metadata": {},
     "output_type": "display_data"
    },
    {
     "data": {
      "text/plain": [
       "london       0.193262\n",
       "rome         0.174580\n",
       "paris        0.129344\n",
       "lisbon       0.111455\n",
       "athens       0.102114\n",
       "budapest     0.077784\n",
       "vienna       0.068405\n",
       "barcelona    0.054789\n",
       "berlin       0.048040\n",
       "amsterdam    0.040227\n",
       "Name: geo, dtype: float64"
      ]
     },
     "metadata": {},
     "output_type": "display_data"
    },
    {
     "data": {
      "text/plain": [
       "weekends    0.506837\n",
       "weekdays    0.493163\n",
       "Name: week, dtype: float64"
      ]
     },
     "metadata": {},
     "output_type": "display_data"
    }
   ],
   "source": [
    "# Check for number of values in categorical columns\n",
    "display(df.room_type.value_counts(normalize=True))\n",
    "display(df.geo.value_counts(normalize=True))\n",
    "display(df.week.value_counts(normalize=True))"
   ]
  },
  {
   "cell_type": "markdown",
   "id": "16d08959",
   "metadata": {},
   "source": [
    "Categorical data ispection shows that shared rooms take less than 1 percent of the database. It would be reasonable to drop these rows since this few observations may be biased. There are also boolean columns that duplicate information in 'room_type' column. I will delete them too.\n",
    "Geography and time of the week are distributed evenly enough."
   ]
  },
  {
   "cell_type": "code",
   "execution_count": 9,
   "id": "2a69f006",
   "metadata": {
    "scrolled": false
   },
   "outputs": [
    {
     "data": {
      "text/html": [
       "<div>\n",
       "<style scoped>\n",
       "    .dataframe tbody tr th:only-of-type {\n",
       "        vertical-align: middle;\n",
       "    }\n",
       "\n",
       "    .dataframe tbody tr th {\n",
       "        vertical-align: top;\n",
       "    }\n",
       "\n",
       "    .dataframe thead th {\n",
       "        text-align: right;\n",
       "    }\n",
       "</style>\n",
       "<table border=\"1\" class=\"dataframe\">\n",
       "  <thead>\n",
       "    <tr style=\"text-align: right;\">\n",
       "      <th></th>\n",
       "      <th>realSum</th>\n",
       "      <th>room_type</th>\n",
       "      <th>person_capacity</th>\n",
       "      <th>host_is_superhost</th>\n",
       "      <th>multi</th>\n",
       "      <th>biz</th>\n",
       "      <th>cleanliness_rating</th>\n",
       "      <th>guest_satisfaction_overall</th>\n",
       "      <th>bedrooms</th>\n",
       "      <th>dist</th>\n",
       "      <th>metro_dist</th>\n",
       "      <th>attr_index</th>\n",
       "      <th>attr_index_norm</th>\n",
       "      <th>rest_index</th>\n",
       "      <th>rest_index_norm</th>\n",
       "      <th>lng</th>\n",
       "      <th>lat</th>\n",
       "      <th>geo</th>\n",
       "      <th>week</th>\n",
       "    </tr>\n",
       "  </thead>\n",
       "  <tbody>\n",
       "    <tr>\n",
       "      <th>0</th>\n",
       "      <td>194.033698</td>\n",
       "      <td>Private room</td>\n",
       "      <td>2.0</td>\n",
       "      <td>False</td>\n",
       "      <td>1</td>\n",
       "      <td>0</td>\n",
       "      <td>10.0</td>\n",
       "      <td>93.0</td>\n",
       "      <td>1</td>\n",
       "      <td>5.022964</td>\n",
       "      <td>2.539380</td>\n",
       "      <td>78.690379</td>\n",
       "      <td>4.166708</td>\n",
       "      <td>98.253896</td>\n",
       "      <td>6.846473</td>\n",
       "      <td>4.90569</td>\n",
       "      <td>52.41772</td>\n",
       "      <td>amsterdam</td>\n",
       "      <td>weekdays</td>\n",
       "    </tr>\n",
       "    <tr>\n",
       "      <th>1</th>\n",
       "      <td>344.245776</td>\n",
       "      <td>Private room</td>\n",
       "      <td>4.0</td>\n",
       "      <td>False</td>\n",
       "      <td>0</td>\n",
       "      <td>0</td>\n",
       "      <td>8.0</td>\n",
       "      <td>85.0</td>\n",
       "      <td>1</td>\n",
       "      <td>0.488389</td>\n",
       "      <td>0.239404</td>\n",
       "      <td>631.176378</td>\n",
       "      <td>33.421209</td>\n",
       "      <td>837.280757</td>\n",
       "      <td>58.342928</td>\n",
       "      <td>4.90005</td>\n",
       "      <td>52.37432</td>\n",
       "      <td>amsterdam</td>\n",
       "      <td>weekdays</td>\n",
       "    </tr>\n",
       "    <tr>\n",
       "      <th>2</th>\n",
       "      <td>264.101422</td>\n",
       "      <td>Private room</td>\n",
       "      <td>2.0</td>\n",
       "      <td>False</td>\n",
       "      <td>0</td>\n",
       "      <td>1</td>\n",
       "      <td>9.0</td>\n",
       "      <td>87.0</td>\n",
       "      <td>1</td>\n",
       "      <td>5.748312</td>\n",
       "      <td>3.651621</td>\n",
       "      <td>75.275877</td>\n",
       "      <td>3.985908</td>\n",
       "      <td>95.386955</td>\n",
       "      <td>6.646700</td>\n",
       "      <td>4.97512</td>\n",
       "      <td>52.36103</td>\n",
       "      <td>amsterdam</td>\n",
       "      <td>weekdays</td>\n",
       "    </tr>\n",
       "    <tr>\n",
       "      <th>3</th>\n",
       "      <td>433.529398</td>\n",
       "      <td>Private room</td>\n",
       "      <td>4.0</td>\n",
       "      <td>False</td>\n",
       "      <td>0</td>\n",
       "      <td>1</td>\n",
       "      <td>9.0</td>\n",
       "      <td>90.0</td>\n",
       "      <td>2</td>\n",
       "      <td>0.384862</td>\n",
       "      <td>0.439876</td>\n",
       "      <td>493.272534</td>\n",
       "      <td>26.119108</td>\n",
       "      <td>875.033098</td>\n",
       "      <td>60.973565</td>\n",
       "      <td>4.89417</td>\n",
       "      <td>52.37663</td>\n",
       "      <td>amsterdam</td>\n",
       "      <td>weekdays</td>\n",
       "    </tr>\n",
       "    <tr>\n",
       "      <th>4</th>\n",
       "      <td>485.552926</td>\n",
       "      <td>Private room</td>\n",
       "      <td>2.0</td>\n",
       "      <td>True</td>\n",
       "      <td>0</td>\n",
       "      <td>0</td>\n",
       "      <td>10.0</td>\n",
       "      <td>98.0</td>\n",
       "      <td>1</td>\n",
       "      <td>0.544738</td>\n",
       "      <td>0.318693</td>\n",
       "      <td>552.830324</td>\n",
       "      <td>29.272733</td>\n",
       "      <td>815.305740</td>\n",
       "      <td>56.811677</td>\n",
       "      <td>4.90051</td>\n",
       "      <td>52.37508</td>\n",
       "      <td>amsterdam</td>\n",
       "      <td>weekdays</td>\n",
       "    </tr>\n",
       "    <tr>\n",
       "      <th>...</th>\n",
       "      <td>...</td>\n",
       "      <td>...</td>\n",
       "      <td>...</td>\n",
       "      <td>...</td>\n",
       "      <td>...</td>\n",
       "      <td>...</td>\n",
       "      <td>...</td>\n",
       "      <td>...</td>\n",
       "      <td>...</td>\n",
       "      <td>...</td>\n",
       "      <td>...</td>\n",
       "      <td>...</td>\n",
       "      <td>...</td>\n",
       "      <td>...</td>\n",
       "      <td>...</td>\n",
       "      <td>...</td>\n",
       "      <td>...</td>\n",
       "      <td>...</td>\n",
       "      <td>...</td>\n",
       "    </tr>\n",
       "    <tr>\n",
       "      <th>51336</th>\n",
       "      <td>1035.066676</td>\n",
       "      <td>Private room</td>\n",
       "      <td>2.0</td>\n",
       "      <td>False</td>\n",
       "      <td>0</td>\n",
       "      <td>1</td>\n",
       "      <td>10.0</td>\n",
       "      <td>100.0</td>\n",
       "      <td>0</td>\n",
       "      <td>5.155373</td>\n",
       "      <td>0.883829</td>\n",
       "      <td>271.191201</td>\n",
       "      <td>18.851558</td>\n",
       "      <td>528.042180</td>\n",
       "      <td>9.451035</td>\n",
       "      <td>-0.05357</td>\n",
       "      <td>51.51255</td>\n",
       "      <td>london</td>\n",
       "      <td>weekends</td>\n",
       "    </tr>\n",
       "    <tr>\n",
       "      <th>51337</th>\n",
       "      <td>181.095510</td>\n",
       "      <td>Private room</td>\n",
       "      <td>2.0</td>\n",
       "      <td>False</td>\n",
       "      <td>1</td>\n",
       "      <td>0</td>\n",
       "      <td>10.0</td>\n",
       "      <td>100.0</td>\n",
       "      <td>1</td>\n",
       "      <td>5.072177</td>\n",
       "      <td>0.344055</td>\n",
       "      <td>268.165870</td>\n",
       "      <td>18.641255</td>\n",
       "      <td>554.906232</td>\n",
       "      <td>9.931855</td>\n",
       "      <td>-0.05620</td>\n",
       "      <td>51.51823</td>\n",
       "      <td>london</td>\n",
       "      <td>weekends</td>\n",
       "    </tr>\n",
       "    <tr>\n",
       "      <th>51338</th>\n",
       "      <td>420.517886</td>\n",
       "      <td>Entire home/apt</td>\n",
       "      <td>2.0</td>\n",
       "      <td>False</td>\n",
       "      <td>0</td>\n",
       "      <td>0</td>\n",
       "      <td>10.0</td>\n",
       "      <td>98.0</td>\n",
       "      <td>1</td>\n",
       "      <td>6.709982</td>\n",
       "      <td>0.926188</td>\n",
       "      <td>181.892001</td>\n",
       "      <td>12.644022</td>\n",
       "      <td>395.397885</td>\n",
       "      <td>7.076933</td>\n",
       "      <td>-0.22172</td>\n",
       "      <td>51.52180</td>\n",
       "      <td>london</td>\n",
       "      <td>weekends</td>\n",
       "    </tr>\n",
       "    <tr>\n",
       "      <th>51339</th>\n",
       "      <td>217.314612</td>\n",
       "      <td>Private room</td>\n",
       "      <td>2.0</td>\n",
       "      <td>False</td>\n",
       "      <td>0</td>\n",
       "      <td>0</td>\n",
       "      <td>10.0</td>\n",
       "      <td>94.0</td>\n",
       "      <td>1</td>\n",
       "      <td>6.736940</td>\n",
       "      <td>0.353634</td>\n",
       "      <td>184.278328</td>\n",
       "      <td>12.809905</td>\n",
       "      <td>471.029678</td>\n",
       "      <td>8.430610</td>\n",
       "      <td>-0.22286</td>\n",
       "      <td>51.49715</td>\n",
       "      <td>london</td>\n",
       "      <td>weekends</td>\n",
       "    </tr>\n",
       "    <tr>\n",
       "      <th>51340</th>\n",
       "      <td>489.193067</td>\n",
       "      <td>Entire home/apt</td>\n",
       "      <td>2.0</td>\n",
       "      <td>False</td>\n",
       "      <td>0</td>\n",
       "      <td>0</td>\n",
       "      <td>9.0</td>\n",
       "      <td>92.0</td>\n",
       "      <td>1</td>\n",
       "      <td>4.174953</td>\n",
       "      <td>0.610443</td>\n",
       "      <td>434.954210</td>\n",
       "      <td>30.235363</td>\n",
       "      <td>697.673227</td>\n",
       "      <td>12.487135</td>\n",
       "      <td>-0.06739</td>\n",
       "      <td>51.50889</td>\n",
       "      <td>london</td>\n",
       "      <td>weekends</td>\n",
       "    </tr>\n",
       "  </tbody>\n",
       "</table>\n",
       "<p>51341 rows × 19 columns</p>\n",
       "</div>"
      ],
      "text/plain": [
       "           realSum        room_type  person_capacity  host_is_superhost  \\\n",
       "0       194.033698     Private room              2.0              False   \n",
       "1       344.245776     Private room              4.0              False   \n",
       "2       264.101422     Private room              2.0              False   \n",
       "3       433.529398     Private room              4.0              False   \n",
       "4       485.552926     Private room              2.0               True   \n",
       "...            ...              ...              ...                ...   \n",
       "51336  1035.066676     Private room              2.0              False   \n",
       "51337   181.095510     Private room              2.0              False   \n",
       "51338   420.517886  Entire home/apt              2.0              False   \n",
       "51339   217.314612     Private room              2.0              False   \n",
       "51340   489.193067  Entire home/apt              2.0              False   \n",
       "\n",
       "       multi  biz  cleanliness_rating  guest_satisfaction_overall  bedrooms  \\\n",
       "0          1    0                10.0                        93.0         1   \n",
       "1          0    0                 8.0                        85.0         1   \n",
       "2          0    1                 9.0                        87.0         1   \n",
       "3          0    1                 9.0                        90.0         2   \n",
       "4          0    0                10.0                        98.0         1   \n",
       "...      ...  ...                 ...                         ...       ...   \n",
       "51336      0    1                10.0                       100.0         0   \n",
       "51337      1    0                10.0                       100.0         1   \n",
       "51338      0    0                10.0                        98.0         1   \n",
       "51339      0    0                10.0                        94.0         1   \n",
       "51340      0    0                 9.0                        92.0         1   \n",
       "\n",
       "           dist  metro_dist  attr_index  attr_index_norm  rest_index  \\\n",
       "0      5.022964    2.539380   78.690379         4.166708   98.253896   \n",
       "1      0.488389    0.239404  631.176378        33.421209  837.280757   \n",
       "2      5.748312    3.651621   75.275877         3.985908   95.386955   \n",
       "3      0.384862    0.439876  493.272534        26.119108  875.033098   \n",
       "4      0.544738    0.318693  552.830324        29.272733  815.305740   \n",
       "...         ...         ...         ...              ...         ...   \n",
       "51336  5.155373    0.883829  271.191201        18.851558  528.042180   \n",
       "51337  5.072177    0.344055  268.165870        18.641255  554.906232   \n",
       "51338  6.709982    0.926188  181.892001        12.644022  395.397885   \n",
       "51339  6.736940    0.353634  184.278328        12.809905  471.029678   \n",
       "51340  4.174953    0.610443  434.954210        30.235363  697.673227   \n",
       "\n",
       "       rest_index_norm      lng       lat        geo      week  \n",
       "0             6.846473  4.90569  52.41772  amsterdam  weekdays  \n",
       "1            58.342928  4.90005  52.37432  amsterdam  weekdays  \n",
       "2             6.646700  4.97512  52.36103  amsterdam  weekdays  \n",
       "3            60.973565  4.89417  52.37663  amsterdam  weekdays  \n",
       "4            56.811677  4.90051  52.37508  amsterdam  weekdays  \n",
       "...                ...      ...       ...        ...       ...  \n",
       "51336         9.451035 -0.05357  51.51255     london  weekends  \n",
       "51337         9.931855 -0.05620  51.51823     london  weekends  \n",
       "51338         7.076933 -0.22172  51.52180     london  weekends  \n",
       "51339         8.430610 -0.22286  51.49715     london  weekends  \n",
       "51340        12.487135 -0.06739  51.50889     london  weekends  \n",
       "\n",
       "[51341 rows x 19 columns]"
      ]
     },
     "metadata": {},
     "output_type": "display_data"
    }
   ],
   "source": [
    "# Deleting 'shared room' rows\n",
    "df.drop(labels=df[df.room_type == 'Shared room'].index, inplace=True)\n",
    "\n",
    "# Deleting 'room_shared' and 'room_private' columns\n",
    "df.drop(columns=['room_shared', 'room_private'], inplace=True)\n",
    "df = df.reset_index(drop=True)\n",
    "display(df)"
   ]
  },
  {
   "cell_type": "markdown",
   "id": "0280fbe1",
   "metadata": {},
   "source": [
    "It will be reasonable to round the 'realSum' values to zero decimals and distance columns to two decimals. Data inspection showed that latitude and longitude were used by the authors to find attraction index and restaurant index so we can get rid of them."
   ]
  },
  {
   "cell_type": "code",
   "execution_count": 10,
   "id": "3bcd373f",
   "metadata": {},
   "outputs": [],
   "source": [
    "# Rounding decimal features\n",
    "df['realSum'] = df['realSum'].apply(lambda x: round(x, 0))\n",
    "df['dist'] = df['dist'].apply(lambda x: round(x, 2))\n",
    "df['metro_dist'] = df['metro_dist'].apply(lambda x: round(x, 2))\n",
    "\n",
    "# Dropping longitude and latitude\n",
    "df.drop(columns=['lng', 'lat'], inplace=True)\n",
    "df = df.reset_index(drop=True)"
   ]
  },
  {
   "cell_type": "markdown",
   "id": "ceaa50e8",
   "metadata": {},
   "source": [
    "Even though we have checked that there are no missing values, there is still a chance that missing data could be inputed in some other way. I will look into the unique values to be sure."
   ]
  },
  {
   "cell_type": "code",
   "execution_count": 11,
   "id": "419600d3",
   "metadata": {
    "scrolled": true
   },
   "outputs": [
    {
     "data": {
      "text/plain": [
       "'realSum'"
      ]
     },
     "metadata": {},
     "output_type": "display_data"
    },
    {
     "data": {
      "text/plain": [
       "162.0     671\n",
       "139.0     549\n",
       "116.0     464\n",
       "127.0     464\n",
       "104.0     428\n",
       "         ... \n",
       "2174.0      1\n",
       "978.0       1\n",
       "1613.0      1\n",
       "1109.0      1\n",
       "2329.0      1\n",
       "Name: realSum, Length: 1386, dtype: int64"
      ]
     },
     "metadata": {},
     "output_type": "display_data"
    },
    {
     "data": {
      "text/plain": [
       "'room_type'"
      ]
     },
     "metadata": {},
     "output_type": "display_data"
    },
    {
     "data": {
      "text/plain": [
       "Entire home/apt    32648\n",
       "Private room       18693\n",
       "Name: room_type, dtype: int64"
      ]
     },
     "metadata": {},
     "output_type": "display_data"
    },
    {
     "data": {
      "text/plain": [
       "'person_capacity'"
      ]
     },
     "metadata": {},
     "output_type": "display_data"
    },
    {
     "data": {
      "text/plain": [
       "2.0    24193\n",
       "4.0    13909\n",
       "3.0     6136\n",
       "6.0     4180\n",
       "5.0     2923\n",
       "Name: person_capacity, dtype: int64"
      ]
     },
     "metadata": {},
     "output_type": "display_data"
    },
    {
     "data": {
      "text/plain": [
       "'host_is_superhost'"
      ]
     },
     "metadata": {},
     "output_type": "display_data"
    },
    {
     "data": {
      "text/plain": [
       "False    38150\n",
       "True     13191\n",
       "Name: host_is_superhost, dtype: int64"
      ]
     },
     "metadata": {},
     "output_type": "display_data"
    },
    {
     "data": {
      "text/plain": [
       "'multi'"
      ]
     },
     "metadata": {},
     "output_type": "display_data"
    },
    {
     "data": {
      "text/plain": [
       "0    36351\n",
       "1    14990\n",
       "Name: multi, dtype: int64"
      ]
     },
     "metadata": {},
     "output_type": "display_data"
    },
    {
     "data": {
      "text/plain": [
       "'biz'"
      ]
     },
     "metadata": {},
     "output_type": "display_data"
    },
    {
     "data": {
      "text/plain": [
       "0    33453\n",
       "1    17888\n",
       "Name: biz, dtype: int64"
      ]
     },
     "metadata": {},
     "output_type": "display_data"
    },
    {
     "data": {
      "text/plain": [
       "'cleanliness_rating'"
      ]
     },
     "metadata": {},
     "output_type": "display_data"
    },
    {
     "data": {
      "text/plain": [
       "10.0    29928\n",
       "9.0     15321\n",
       "8.0      4295\n",
       "7.0       933\n",
       "6.0       490\n",
       "2.0       141\n",
       "4.0       137\n",
       "5.0        86\n",
       "3.0        10\n",
       "Name: cleanliness_rating, dtype: int64"
      ]
     },
     "metadata": {},
     "output_type": "display_data"
    },
    {
     "data": {
      "text/plain": [
       "'guest_satisfaction_overall'"
      ]
     },
     "metadata": {},
     "output_type": "display_data"
    },
    {
     "data": {
      "text/plain": [
       "100.0    10624\n",
       "98.0      3874\n",
       "97.0      3617\n",
       "96.0      3514\n",
       "93.0      3304\n",
       "         ...  \n",
       "62.0         4\n",
       "44.0         2\n",
       "46.0         1\n",
       "54.0         1\n",
       "61.0         1\n",
       "Name: guest_satisfaction_overall, Length: 53, dtype: int64"
      ]
     },
     "metadata": {},
     "output_type": "display_data"
    },
    {
     "data": {
      "text/plain": [
       "'bedrooms'"
      ]
     },
     "metadata": {},
     "output_type": "display_data"
    },
    {
     "data": {
      "text/plain": [
       "1     35967\n",
       "2      9290\n",
       "0      4485\n",
       "3      1477\n",
       "4        96\n",
       "5        10\n",
       "9        10\n",
       "6         2\n",
       "8         2\n",
       "10        2\n",
       "Name: bedrooms, dtype: int64"
      ]
     },
     "metadata": {},
     "output_type": "display_data"
    },
    {
     "data": {
      "text/plain": [
       "'dist'"
      ]
     },
     "metadata": {},
     "output_type": "display_data"
    },
    {
     "data": {
      "text/plain": [
       "1.12     186\n",
       "1.43     169\n",
       "0.94     163\n",
       "0.88     153\n",
       "0.95     152\n",
       "        ... \n",
       "13.50      1\n",
       "11.44      1\n",
       "19.79      1\n",
       "13.35      1\n",
       "12.20      1\n",
       "Name: dist, Length: 1318, dtype: int64"
      ]
     },
     "metadata": {},
     "output_type": "display_data"
    },
    {
     "data": {
      "text/plain": [
       "'metro_dist'"
      ]
     },
     "metadata": {},
     "output_type": "display_data"
    },
    {
     "data": {
      "text/plain": [
       "0.24    912\n",
       "0.18    903\n",
       "0.27    892\n",
       "0.30    892\n",
       "0.32    865\n",
       "       ... \n",
       "6.11      1\n",
       "4.69      1\n",
       "5.84      1\n",
       "4.64      1\n",
       "9.17      1\n",
       "Name: metro_dist, Length: 649, dtype: int64"
      ]
     },
     "metadata": {},
     "output_type": "display_data"
    },
    {
     "data": {
      "text/plain": [
       "'attr_index'"
      ]
     },
     "metadata": {},
     "output_type": "display_data"
    },
    {
     "data": {
      "text/plain": [
       "78.690379     1\n",
       "53.926032     1\n",
       "378.823765    1\n",
       "140.988085    1\n",
       "51.675089     1\n",
       "             ..\n",
       "373.508553    1\n",
       "400.555991    1\n",
       "272.235986    1\n",
       "349.696990    1\n",
       "434.954210    1\n",
       "Name: attr_index, Length: 51341, dtype: int64"
      ]
     },
     "metadata": {},
     "output_type": "display_data"
    },
    {
     "data": {
      "text/plain": [
       "'attr_index_norm'"
      ]
     },
     "metadata": {},
     "output_type": "display_data"
    },
    {
     "data": {
      "text/plain": [
       "100.000000    20\n",
       "4.166708       1\n",
       "6.153742       1\n",
       "1.948366       1\n",
       "14.516765      1\n",
       "              ..\n",
       "13.211645      1\n",
       "8.979232       1\n",
       "11.534149      1\n",
       "9.322951       1\n",
       "30.235363      1\n",
       "Name: attr_index_norm, Length: 51322, dtype: int64"
      ]
     },
     "metadata": {},
     "output_type": "display_data"
    },
    {
     "data": {
      "text/plain": [
       "'rest_index'"
      ]
     },
     "metadata": {},
     "output_type": "display_data"
    },
    {
     "data": {
      "text/plain": [
       "98.253896      1\n",
       "80.034355      1\n",
       "647.442451     1\n",
       "260.512626     1\n",
       "76.099887      1\n",
       "              ..\n",
       "1076.930631    1\n",
       "1263.475109    1\n",
       "909.268414     1\n",
       "1486.973289    1\n",
       "697.673227     1\n",
       "Name: rest_index, Length: 51341, dtype: int64"
      ]
     },
     "metadata": {},
     "output_type": "display_data"
    },
    {
     "data": {
      "text/plain": [
       "'rest_index_norm'"
      ]
     },
     "metadata": {},
     "output_type": "display_data"
    },
    {
     "data": {
      "text/plain": [
       "100.000000    20\n",
       "6.846473       1\n",
       "11.753398      1\n",
       "5.714043       1\n",
       "28.793315      1\n",
       "              ..\n",
       "60.526350      1\n",
       "71.010643      1\n",
       "51.103290      1\n",
       "83.571831      1\n",
       "12.487135      1\n",
       "Name: rest_index_norm, Length: 51322, dtype: int64"
      ]
     },
     "metadata": {},
     "output_type": "display_data"
    },
    {
     "data": {
      "text/plain": [
       "'geo'"
      ]
     },
     "metadata": {},
     "output_type": "display_data"
    },
    {
     "data": {
      "text/plain": [
       "london       9943\n",
       "rome         9015\n",
       "paris        6594\n",
       "lisbon       5689\n",
       "athens       5269\n",
       "budapest     4008\n",
       "vienna       3521\n",
       "barcelona    2821\n",
       "berlin       2411\n",
       "amsterdam    2070\n",
       "Name: geo, dtype: int64"
      ]
     },
     "metadata": {},
     "output_type": "display_data"
    },
    {
     "data": {
      "text/plain": [
       "'week'"
      ]
     },
     "metadata": {},
     "output_type": "display_data"
    },
    {
     "data": {
      "text/plain": [
       "weekends    26021\n",
       "weekdays    25320\n",
       "Name: week, dtype: int64"
      ]
     },
     "metadata": {},
     "output_type": "display_data"
    }
   ],
   "source": [
    "# Removing rows and columns display limit\n",
    "pd.set_option('display.max_rows', None)\n",
    "pd.set_option('display.max_columns', None)\n",
    "\n",
    "# Printing unique values for every column\n",
    "for i in df.columns:\n",
    "    display(i)\n",
    "    display(df[i].value_counts())"
   ]
  },
  {
   "cell_type": "markdown",
   "id": "30b699a1",
   "metadata": {},
   "source": [
    "There is no missing data in the dataset. "
   ]
  },
  {
   "cell_type": "markdown",
   "id": "5cbaad50",
   "metadata": {},
   "source": [
    "## EDA\n",
    "Now it is time to perform exploratory data analysis to find some insights about data.<br>\n",
    "I will start with looking into the overall data and later making a plot of prices grouped by geography."
   ]
  },
  {
   "cell_type": "code",
   "execution_count": 12,
   "id": "ff3f9266",
   "metadata": {},
   "outputs": [
    {
     "data": {
      "text/html": [
       "<div>\n",
       "<style scoped>\n",
       "    .dataframe tbody tr th:only-of-type {\n",
       "        vertical-align: middle;\n",
       "    }\n",
       "\n",
       "    .dataframe tbody tr th {\n",
       "        vertical-align: top;\n",
       "    }\n",
       "\n",
       "    .dataframe thead th {\n",
       "        text-align: right;\n",
       "    }\n",
       "</style>\n",
       "<table border=\"1\" class=\"dataframe\">\n",
       "  <thead>\n",
       "    <tr style=\"text-align: right;\">\n",
       "      <th></th>\n",
       "      <th>realSum</th>\n",
       "      <th>person_capacity</th>\n",
       "      <th>multi</th>\n",
       "      <th>biz</th>\n",
       "      <th>cleanliness_rating</th>\n",
       "      <th>...</th>\n",
       "      <th>metro_dist</th>\n",
       "      <th>attr_index</th>\n",
       "      <th>attr_index_norm</th>\n",
       "      <th>rest_index</th>\n",
       "      <th>rest_index_norm</th>\n",
       "    </tr>\n",
       "  </thead>\n",
       "  <tbody>\n",
       "    <tr>\n",
       "      <th>count</th>\n",
       "      <td>51341.000000</td>\n",
       "      <td>51341.000000</td>\n",
       "      <td>51341.000000</td>\n",
       "      <td>51341.000000</td>\n",
       "      <td>51341.000000</td>\n",
       "      <td>...</td>\n",
       "      <td>51341.000000</td>\n",
       "      <td>51341.000000</td>\n",
       "      <td>51341.000000</td>\n",
       "      <td>51341.000000</td>\n",
       "      <td>51341.000000</td>\n",
       "    </tr>\n",
       "    <tr>\n",
       "      <th>mean</th>\n",
       "      <td>280.857989</td>\n",
       "      <td>3.157808</td>\n",
       "      <td>0.291969</td>\n",
       "      <td>0.348415</td>\n",
       "      <td>9.393857</td>\n",
       "      <td>...</td>\n",
       "      <td>0.681704</td>\n",
       "      <td>294.801070</td>\n",
       "      <td>13.428874</td>\n",
       "      <td>628.172444</td>\n",
       "      <td>22.777592</td>\n",
       "    </tr>\n",
       "    <tr>\n",
       "      <th>std</th>\n",
       "      <td>328.843621</td>\n",
       "      <td>1.295278</td>\n",
       "      <td>0.454673</td>\n",
       "      <td>0.476473</td>\n",
       "      <td>0.951398</td>\n",
       "      <td>...</td>\n",
       "      <td>0.856149</td>\n",
       "      <td>225.076196</td>\n",
       "      <td>9.814666</td>\n",
       "      <td>498.695614</td>\n",
       "      <td>17.815214</td>\n",
       "    </tr>\n",
       "    <tr>\n",
       "      <th>min</th>\n",
       "      <td>35.000000</td>\n",
       "      <td>2.000000</td>\n",
       "      <td>0.000000</td>\n",
       "      <td>0.000000</td>\n",
       "      <td>2.000000</td>\n",
       "      <td>...</td>\n",
       "      <td>0.000000</td>\n",
       "      <td>15.152201</td>\n",
       "      <td>0.926301</td>\n",
       "      <td>19.576924</td>\n",
       "      <td>0.592757</td>\n",
       "    </tr>\n",
       "    <tr>\n",
       "      <th>25%</th>\n",
       "      <td>150.000000</td>\n",
       "      <td>2.000000</td>\n",
       "      <td>0.000000</td>\n",
       "      <td>0.000000</td>\n",
       "      <td>9.000000</td>\n",
       "      <td>...</td>\n",
       "      <td>0.250000</td>\n",
       "      <td>137.297195</td>\n",
       "      <td>6.382615</td>\n",
       "      <td>251.453474</td>\n",
       "      <td>8.744043</td>\n",
       "    </tr>\n",
       "    <tr>\n",
       "      <th>50%</th>\n",
       "      <td>212.000000</td>\n",
       "      <td>3.000000</td>\n",
       "      <td>0.000000</td>\n",
       "      <td>0.000000</td>\n",
       "      <td>10.000000</td>\n",
       "      <td>...</td>\n",
       "      <td>0.410000</td>\n",
       "      <td>235.168523</td>\n",
       "      <td>11.471313</td>\n",
       "      <td>523.670672</td>\n",
       "      <td>17.510134</td>\n",
       "    </tr>\n",
       "    <tr>\n",
       "      <th>75%</th>\n",
       "      <td>321.000000</td>\n",
       "      <td>4.000000</td>\n",
       "      <td>1.000000</td>\n",
       "      <td>1.000000</td>\n",
       "      <td>10.000000</td>\n",
       "      <td>...</td>\n",
       "      <td>0.740000</td>\n",
       "      <td>386.532276</td>\n",
       "      <td>17.410522</td>\n",
       "      <td>833.323023</td>\n",
       "      <td>32.965510</td>\n",
       "    </tr>\n",
       "    <tr>\n",
       "      <th>max</th>\n",
       "      <td>18545.000000</td>\n",
       "      <td>6.000000</td>\n",
       "      <td>1.000000</td>\n",
       "      <td>1.000000</td>\n",
       "      <td>10.000000</td>\n",
       "      <td>...</td>\n",
       "      <td>14.270000</td>\n",
       "      <td>4513.563486</td>\n",
       "      <td>100.000000</td>\n",
       "      <td>6696.156772</td>\n",
       "      <td>100.000000</td>\n",
       "    </tr>\n",
       "  </tbody>\n",
       "</table>\n",
       "<p>8 rows × 13 columns</p>\n",
       "</div>"
      ],
      "text/plain": [
       "            realSum  person_capacity         multi           biz  \\\n",
       "count  51341.000000     51341.000000  51341.000000  51341.000000   \n",
       "mean     280.857989         3.157808      0.291969      0.348415   \n",
       "std      328.843621         1.295278      0.454673      0.476473   \n",
       "min       35.000000         2.000000      0.000000      0.000000   \n",
       "25%      150.000000         2.000000      0.000000      0.000000   \n",
       "50%      212.000000         3.000000      0.000000      0.000000   \n",
       "75%      321.000000         4.000000      1.000000      1.000000   \n",
       "max    18545.000000         6.000000      1.000000      1.000000   \n",
       "\n",
       "       cleanliness_rating  ...    metro_dist    attr_index  attr_index_norm  \\\n",
       "count        51341.000000  ...  51341.000000  51341.000000     51341.000000   \n",
       "mean             9.393857  ...      0.681704    294.801070        13.428874   \n",
       "std              0.951398  ...      0.856149    225.076196         9.814666   \n",
       "min              2.000000  ...      0.000000     15.152201         0.926301   \n",
       "25%              9.000000  ...      0.250000    137.297195         6.382615   \n",
       "50%             10.000000  ...      0.410000    235.168523        11.471313   \n",
       "75%             10.000000  ...      0.740000    386.532276        17.410522   \n",
       "max             10.000000  ...     14.270000   4513.563486       100.000000   \n",
       "\n",
       "         rest_index  rest_index_norm  \n",
       "count  51341.000000     51341.000000  \n",
       "mean     628.172444        22.777592  \n",
       "std      498.695614        17.815214  \n",
       "min       19.576924         0.592757  \n",
       "25%      251.453474         8.744043  \n",
       "50%      523.670672        17.510134  \n",
       "75%      833.323023        32.965510  \n",
       "max     6696.156772       100.000000  \n",
       "\n",
       "[8 rows x 13 columns]"
      ]
     },
     "execution_count": 12,
     "metadata": {},
     "output_type": "execute_result"
    }
   ],
   "source": [
    "# Summary statistics for numerical columns\n",
    "df.describe()"
   ]
  },
  {
   "cell_type": "code",
   "execution_count": 13,
   "id": "dfe17a8e",
   "metadata": {},
   "outputs": [
    {
     "data": {
      "image/png": "[encoded data removed]",
      "text/plain": [
       "<Figure size 640x480 with 1 Axes>"
      ]
     },
     "metadata": {},
     "output_type": "display_data"
    },
    {
     "data": {
      "text/plain": [
       "<Figure size 640x480 with 0 Axes>"
      ]
     },
     "metadata": {},
     "output_type": "display_data"
    }
   ],
   "source": [
    "# Plotting the graph\n",
    "sns.boxplot(x='geo', y='realSum', data=df)\n",
    "plt.ylim(0, 1500)\n",
    "plt.xticks(rotation=30)\n",
    "plt.show()\n",
    "plt.clf()"
   ]
  },
  {
   "cell_type": "markdown",
   "id": "5d0286e4",
   "metadata": {},
   "source": [
    "We can see that pricing varies from city to city with otliers reaching 18545 euros per two nights. Let's look into the pricing more closely."
   ]
  },
  {
   "cell_type": "code",
   "execution_count": 14,
   "id": "7f2220d4",
   "metadata": {},
   "outputs": [
    {
     "data": {
      "image/png": "[encoded data removed]",
      "text/plain": [
       "<Figure size 640x480 with 1 Axes>"
      ]
     },
     "metadata": {},
     "output_type": "display_data"
    },
    {
     "data": {
      "text/plain": [
       "<Figure size 640x480 with 0 Axes>"
      ]
     },
     "metadata": {},
     "output_type": "display_data"
    }
   ],
   "source": [
    "# Plotting pricing histogram for 99% of the observations\n",
    "sns.histplot(df['realSum'])\n",
    "plt.show()\n",
    "plt.clf()"
   ]
  },
  {
   "cell_type": "markdown",
   "id": "a6c838fe",
   "metadata": {},
   "source": [
    "We see on the graphs that prices have major outliers. Let's see how the graph will react if we display 99% of the observed data."
   ]
  },
  {
   "cell_type": "code",
   "execution_count": 15,
   "id": "db681f66",
   "metadata": {},
   "outputs": [
    {
     "data": {
      "image/png": "[encoded data removed]",
      "text/plain": [
       "<Figure size 640x480 with 1 Axes>"
      ]
     },
     "metadata": {},
     "output_type": "display_data"
    },
    {
     "data": {
      "text/plain": [
       "<Figure size 640x480 with 0 Axes>"
      ]
     },
     "metadata": {},
     "output_type": "display_data"
    }
   ],
   "source": [
    "# Plotting pricing histogram for 99% of the observations\n",
    "sns.histplot(df['realSum'][df['realSum'] < df['realSum'].quantile(0.99)])\n",
    "plt.show()\n",
    "plt.clf()"
   ]
  },
  {
   "cell_type": "markdown",
   "id": "d0ffad95",
   "metadata": {},
   "source": [
    "As we can see on the graph, 99% of the price observations are under 1200 euros per two nights. Prices counts are strongly skewed to the right."
   ]
  },
  {
   "cell_type": "markdown",
   "id": "f0af7ea4",
   "metadata": {},
   "source": [
    "## Building a model\n",
    "### Getting the data ready\n",
    "Now that we had a look into the graphs, I will begin creating prediction model.\n",
    "I will start with transforming categorical data and creating relation heatmap.\n",
    "I will also get rid of attractive index and restaurant index variables since authors already included standardized version of these variables. Same as before, I will be working with the prices counts under 99th quantile."
   ]
  },
  {
   "cell_type": "code",
   "execution_count": 16,
   "id": "30240131",
   "metadata": {},
   "outputs": [],
   "source": [
    "# Dropping the outliers\n",
    "df = df[df['realSum'] < df['realSum'].quantile(0.99)]\n",
    "\n",
    "# Creating a dataset for a machine learning model and one-hot-encoding categorical data\n",
    "df_model = pd.get_dummies(df, columns=['room_type', 'geo', 'week'], drop_first=True)\n",
    "\n",
    "# Dropping not standardized data\n",
    "df_model = df_model.drop(columns=['attr_index', 'rest_index'], axis=1)"
   ]
  },
  {
   "cell_type": "code",
   "execution_count": 17,
   "id": "69f8ae44",
   "metadata": {},
   "outputs": [
    {
     "name": "stdout",
     "output_type": "stream",
     "text": [
      "<class 'pandas.core.frame.DataFrame'>\n",
      "Int64Index: 50827 entries, 0 to 51340\n",
      "Data columns (total 23 columns):\n",
      " #   Column                      Non-Null Count  Dtype  \n",
      "---  ------                      --------------  -----  \n",
      " 0   realSum                     50827 non-null  float64\n",
      " 1   person_capacity             50827 non-null  float64\n",
      " 2   host_is_superhost           50827 non-null  bool   \n",
      " 3   multi                       50827 non-null  int64  \n",
      " 4   biz                         50827 non-null  int64  \n",
      " 5   cleanliness_rating          50827 non-null  float64\n",
      " 6   guest_satisfaction_overall  50827 non-null  float64\n",
      " 7   bedrooms                    50827 non-null  int64  \n",
      " 8   dist                        50827 non-null  float64\n",
      " 9   metro_dist                  50827 non-null  float64\n",
      " 10  attr_index_norm             50827 non-null  float64\n",
      " 11  rest_index_norm             50827 non-null  float64\n",
      " 12  room_type_Private room      50827 non-null  uint8  \n",
      " 13  geo_athens                  50827 non-null  uint8  \n",
      " 14  geo_barcelona               50827 non-null  uint8  \n",
      " 15  geo_berlin                  50827 non-null  uint8  \n",
      " 16  geo_budapest                50827 non-null  uint8  \n",
      " 17  geo_lisbon                  50827 non-null  uint8  \n",
      " 18  geo_london                  50827 non-null  uint8  \n",
      " 19  geo_paris                   50827 non-null  uint8  \n",
      " 20  geo_rome                    50827 non-null  uint8  \n",
      " 21  geo_vienna                  50827 non-null  uint8  \n",
      " 22  week_weekends               50827 non-null  uint8  \n",
      "dtypes: bool(1), float64(8), int64(3), uint8(11)\n",
      "memory usage: 5.2 MB\n"
     ]
    }
   ],
   "source": [
    "# Checking modified dataset\n",
    "df_model.info()"
   ]
  },
  {
   "cell_type": "markdown",
   "id": "0be6e419",
   "metadata": {},
   "source": [
    "Now, that we have created a new dataset for a model, let's look into the correlation matrix and the heatmap buit on top of it."
   ]
  },
  {
   "cell_type": "code",
   "execution_count": 18,
   "id": "12c7cd0b",
   "metadata": {
    "scrolled": false
   },
   "outputs": [
    {
     "data": {
      "text/html": [
       "<div>\n",
       "<style scoped>\n",
       "    .dataframe tbody tr th:only-of-type {\n",
       "        vertical-align: middle;\n",
       "    }\n",
       "\n",
       "    .dataframe tbody tr th {\n",
       "        vertical-align: top;\n",
       "    }\n",
       "\n",
       "    .dataframe thead th {\n",
       "        text-align: right;\n",
       "    }\n",
       "</style>\n",
       "<table border=\"1\" class=\"dataframe\">\n",
       "  <thead>\n",
       "    <tr style=\"text-align: right;\">\n",
       "      <th></th>\n",
       "      <th>realSum</th>\n",
       "      <th>person_capacity</th>\n",
       "      <th>host_is_superhost</th>\n",
       "      <th>multi</th>\n",
       "      <th>biz</th>\n",
       "      <th>...</th>\n",
       "      <th>geo_london</th>\n",
       "      <th>geo_paris</th>\n",
       "      <th>geo_rome</th>\n",
       "      <th>geo_vienna</th>\n",
       "      <th>week_weekends</th>\n",
       "    </tr>\n",
       "  </thead>\n",
       "  <tbody>\n",
       "    <tr>\n",
       "      <th>realSum</th>\n",
       "      <td>1.000000</td>\n",
       "      <td>0.313579</td>\n",
       "      <td>-0.075624</td>\n",
       "      <td>-0.085422</td>\n",
       "      <td>0.084860</td>\n",
       "      <td>...</td>\n",
       "      <td>0.176576</td>\n",
       "      <td>0.243296</td>\n",
       "      <td>-0.161424</td>\n",
       "      <td>-0.050164</td>\n",
       "      <td>0.026077</td>\n",
       "    </tr>\n",
       "    <tr>\n",
       "      <th>person_capacity</th>\n",
       "      <td>0.313579</td>\n",
       "      <td>1.000000</td>\n",
       "      <td>0.033467</td>\n",
       "      <td>-0.054167</td>\n",
       "      <td>0.106949</td>\n",
       "      <td>...</td>\n",
       "      <td>-0.125682</td>\n",
       "      <td>-0.069996</td>\n",
       "      <td>0.075657</td>\n",
       "      <td>0.043811</td>\n",
       "      <td>-0.011404</td>\n",
       "    </tr>\n",
       "    <tr>\n",
       "      <th>host_is_superhost</th>\n",
       "      <td>-0.075624</td>\n",
       "      <td>0.033467</td>\n",
       "      <td>1.000000</td>\n",
       "      <td>0.097506</td>\n",
       "      <td>-0.107775</td>\n",
       "      <td>...</td>\n",
       "      <td>-0.111615</td>\n",
       "      <td>-0.102004</td>\n",
       "      <td>0.074362</td>\n",
       "      <td>0.017380</td>\n",
       "      <td>-0.006085</td>\n",
       "    </tr>\n",
       "    <tr>\n",
       "      <th>multi</th>\n",
       "      <td>-0.085422</td>\n",
       "      <td>-0.054167</td>\n",
       "      <td>0.097506</td>\n",
       "      <td>1.000000</td>\n",
       "      <td>-0.470479</td>\n",
       "      <td>...</td>\n",
       "      <td>-0.018621</td>\n",
       "      <td>-0.061471</td>\n",
       "      <td>0.095296</td>\n",
       "      <td>-0.008465</td>\n",
       "      <td>-0.005246</td>\n",
       "    </tr>\n",
       "    <tr>\n",
       "      <th>biz</th>\n",
       "      <td>0.084860</td>\n",
       "      <td>0.106949</td>\n",
       "      <td>-0.107775</td>\n",
       "      <td>-0.470479</td>\n",
       "      <td>1.000000</td>\n",
       "      <td>...</td>\n",
       "      <td>0.038469</td>\n",
       "      <td>-0.087557</td>\n",
       "      <td>-0.014125</td>\n",
       "      <td>-0.005061</td>\n",
       "      <td>-0.017569</td>\n",
       "    </tr>\n",
       "    <tr>\n",
       "      <th>...</th>\n",
       "      <td>...</td>\n",
       "      <td>...</td>\n",
       "      <td>...</td>\n",
       "      <td>...</td>\n",
       "      <td>...</td>\n",
       "      <td>...</td>\n",
       "      <td>...</td>\n",
       "      <td>...</td>\n",
       "      <td>...</td>\n",
       "      <td>...</td>\n",
       "      <td>...</td>\n",
       "    </tr>\n",
       "    <tr>\n",
       "      <th>geo_london</th>\n",
       "      <td>0.176576</td>\n",
       "      <td>-0.125682</td>\n",
       "      <td>-0.111615</td>\n",
       "      <td>-0.018621</td>\n",
       "      <td>0.038469</td>\n",
       "      <td>...</td>\n",
       "      <td>1.000000</td>\n",
       "      <td>-0.186125</td>\n",
       "      <td>-0.225891</td>\n",
       "      <td>-0.132813</td>\n",
       "      <td>0.030703</td>\n",
       "    </tr>\n",
       "    <tr>\n",
       "      <th>geo_paris</th>\n",
       "      <td>0.243296</td>\n",
       "      <td>-0.069996</td>\n",
       "      <td>-0.102004</td>\n",
       "      <td>-0.061471</td>\n",
       "      <td>-0.087557</td>\n",
       "      <td>...</td>\n",
       "      <td>-0.186125</td>\n",
       "      <td>1.000000</td>\n",
       "      <td>-0.177245</td>\n",
       "      <td>-0.104212</td>\n",
       "      <td>0.020344</td>\n",
       "    </tr>\n",
       "    <tr>\n",
       "      <th>geo_rome</th>\n",
       "      <td>-0.161424</td>\n",
       "      <td>0.075657</td>\n",
       "      <td>0.074362</td>\n",
       "      <td>0.095296</td>\n",
       "      <td>-0.014125</td>\n",
       "      <td>...</td>\n",
       "      <td>-0.225891</td>\n",
       "      <td>-0.177245</td>\n",
       "      <td>1.000000</td>\n",
       "      <td>-0.126477</td>\n",
       "      <td>-0.003764</td>\n",
       "    </tr>\n",
       "    <tr>\n",
       "      <th>geo_vienna</th>\n",
       "      <td>-0.050164</td>\n",
       "      <td>0.043811</td>\n",
       "      <td>0.017380</td>\n",
       "      <td>-0.008465</td>\n",
       "      <td>-0.005061</td>\n",
       "      <td>...</td>\n",
       "      <td>-0.132813</td>\n",
       "      <td>-0.104212</td>\n",
       "      <td>-0.126477</td>\n",
       "      <td>1.000000</td>\n",
       "      <td>0.001105</td>\n",
       "    </tr>\n",
       "    <tr>\n",
       "      <th>week_weekends</th>\n",
       "      <td>0.026077</td>\n",
       "      <td>-0.011404</td>\n",
       "      <td>-0.006085</td>\n",
       "      <td>-0.005246</td>\n",
       "      <td>-0.017569</td>\n",
       "      <td>...</td>\n",
       "      <td>0.030703</td>\n",
       "      <td>0.020344</td>\n",
       "      <td>-0.003764</td>\n",
       "      <td>0.001105</td>\n",
       "      <td>1.000000</td>\n",
       "    </tr>\n",
       "  </tbody>\n",
       "</table>\n",
       "<p>23 rows × 23 columns</p>\n",
       "</div>"
      ],
      "text/plain": [
       "                    realSum  person_capacity  host_is_superhost     multi  \\\n",
       "realSum            1.000000         0.313579          -0.075624 -0.085422   \n",
       "person_capacity    0.313579         1.000000           0.033467 -0.054167   \n",
       "host_is_superhost -0.075624         0.033467           1.000000  0.097506   \n",
       "multi             -0.085422        -0.054167           0.097506  1.000000   \n",
       "biz                0.084860         0.106949          -0.107775 -0.470479   \n",
       "...                     ...              ...                ...       ...   \n",
       "geo_london         0.176576        -0.125682          -0.111615 -0.018621   \n",
       "geo_paris          0.243296        -0.069996          -0.102004 -0.061471   \n",
       "geo_rome          -0.161424         0.075657           0.074362  0.095296   \n",
       "geo_vienna        -0.050164         0.043811           0.017380 -0.008465   \n",
       "week_weekends      0.026077        -0.011404          -0.006085 -0.005246   \n",
       "\n",
       "                        biz  ...  geo_london  geo_paris  geo_rome  geo_vienna  \\\n",
       "realSum            0.084860  ...    0.176576   0.243296 -0.161424   -0.050164   \n",
       "person_capacity    0.106949  ...   -0.125682  -0.069996  0.075657    0.043811   \n",
       "host_is_superhost -0.107775  ...   -0.111615  -0.102004  0.074362    0.017380   \n",
       "multi             -0.470479  ...   -0.018621  -0.061471  0.095296   -0.008465   \n",
       "biz                1.000000  ...    0.038469  -0.087557 -0.014125   -0.005061   \n",
       "...                     ...  ...         ...        ...       ...         ...   \n",
       "geo_london         0.038469  ...    1.000000  -0.186125 -0.225891   -0.132813   \n",
       "geo_paris         -0.087557  ...   -0.186125   1.000000 -0.177245   -0.104212   \n",
       "geo_rome          -0.014125  ...   -0.225891  -0.177245  1.000000   -0.126477   \n",
       "geo_vienna        -0.005061  ...   -0.132813  -0.104212 -0.126477    1.000000   \n",
       "week_weekends     -0.017569  ...    0.030703   0.020344 -0.003764    0.001105   \n",
       "\n",
       "                   week_weekends  \n",
       "realSum                 0.026077  \n",
       "person_capacity        -0.011404  \n",
       "host_is_superhost      -0.006085  \n",
       "multi                  -0.005246  \n",
       "biz                    -0.017569  \n",
       "...                          ...  \n",
       "geo_london              0.030703  \n",
       "geo_paris               0.020344  \n",
       "geo_rome               -0.003764  \n",
       "geo_vienna              0.001105  \n",
       "week_weekends           1.000000  \n",
       "\n",
       "[23 rows x 23 columns]"
      ]
     },
     "metadata": {},
     "output_type": "display_data"
    }
   ],
   "source": [
    "# Creating a correlation matrix\n",
    "corr = df_model.corr()\n",
    "display(corr)"
   ]
  },
  {
   "cell_type": "code",
   "execution_count": 19,
   "id": "f8edca0d",
   "metadata": {},
   "outputs": [
    {
     "data": {
      "image/png": "[encoded data removed]",
      "text/plain": [
       "<Figure size 640x480 with 2 Axes>"
      ]
     },
     "metadata": {},
     "output_type": "display_data"
    }
   ],
   "source": [
    "# Plotting a heatmap\n",
    "sns.heatmap(corr)\n",
    "plt.show()"
   ]
  },
  {
   "cell_type": "markdown",
   "id": "20e32eec",
   "metadata": {},
   "source": [
    "On the heatmap we can see that cleanliness rating and guest satisfaction rating are correlating at a high level of 0.71. I will drop the variable with a less impact on the final price."
   ]
  },
  {
   "cell_type": "code",
   "execution_count": 20,
   "id": "07b92852",
   "metadata": {},
   "outputs": [],
   "source": [
    "# dropping cleanliness rating\n",
    "df_model = df_model.drop(columns=['cleanliness_rating'], axis=1)"
   ]
  },
  {
   "cell_type": "markdown",
   "id": "ae7d3bb1",
   "metadata": {},
   "source": [
    "### Finding a baseline\n",
    "Now, that we only have the data we need for a model, we can start training it. I have chosen random forest regressor for this project since it shows good results for datasets this big.<br>\n",
    "<br>\n",
    "But before we build the model, there is one question to answer: \"How do we know if the model performs good?\".<br>\n",
    "To answer this question we need a baseline for reference. If a model performs better than this baseline, it is safe to say that the model is succesful.<br>\n",
    "<br>\n",
    "For the baseline I have chosen average prices across the cities. In other words, baseline for evaluating the model will be mean squared error and r2 score, as if we have predicted each airbnb price to be the same as the average price for this city."
   ]
  },
  {
   "cell_type": "code",
   "execution_count": 54,
   "id": "fb82fca8",
   "metadata": {},
   "outputs": [],
   "source": [
    "# Features and labels for model\n",
    "features_model = df_model.drop(columns=['realSum'], axis=1)\n",
    "labels_model = df_model['realSum']\n",
    "\n",
    "# Features and labels of all the data\n",
    "features = df.drop(columns=['realSum'], axis=1)\n",
    "labels = df['realSum']"
   ]
  },
  {
   "cell_type": "code",
   "execution_count": 22,
   "id": "6e47870f",
   "metadata": {},
   "outputs": [],
   "source": [
    "# Creating train and test split\n",
    "train_features, test_features, train_labels, test_labels = train_test_split(features_model, labels_model, test_size=0.2, random_state=23)\n",
    "\n",
    "train_features_base, test_features_base, train_labels_base, test_labels_base = train_test_split(features, labels, test_size=0.2, random_state=23)\n"
   ]
  },
  {
   "cell_type": "code",
   "execution_count": 23,
   "id": "db69d7bf",
   "metadata": {},
   "outputs": [],
   "source": [
    "# Baseline predictions by geo\n",
    "baseline_preds = test_features_base['geo'].apply(lambda x: df['realSum'][df['geo'] == x].mean())\n",
    "avg_baseline_errors = mean_squared_error(test_labels_base, baseline_preds)"
   ]
  },
  {
   "cell_type": "code",
   "execution_count": 24,
   "id": "31c8d882",
   "metadata": {},
   "outputs": [
    {
     "data": {
      "text/plain": [
       "'Baseline mean squared error: 20857.969025163806'"
      ]
     },
     "metadata": {},
     "output_type": "display_data"
    },
    {
     "data": {
      "text/plain": [
       "'Baseline r2 score: 0.2489019157784581'"
      ]
     },
     "metadata": {},
     "output_type": "display_data"
    }
   ],
   "source": [
    "# Displaying baseline\n",
    "display(f'Baseline mean squared error: {avg_baseline_errors}')\n",
    "display(f'Baseline r2 score: {r2_score(test_labels_base, baseline_preds)}')"
   ]
  },
  {
   "cell_type": "markdown",
   "id": "fac7134f",
   "metadata": {},
   "source": [
    "### Training model\n",
    "Now that we know our baseline we can start training a model. I will instantiate random forest regressor and measure how well it performs."
   ]
  },
  {
   "cell_type": "code",
   "execution_count": 25,
   "id": "d5a3141e",
   "metadata": {},
   "outputs": [],
   "source": [
    "# Instantiating random forest regressor\n",
    "regressor = RandomForestRegressor(random_state=23)"
   ]
  },
  {
   "cell_type": "code",
   "execution_count": 26,
   "id": "1003e5ed",
   "metadata": {
    "scrolled": false
   },
   "outputs": [
    {
     "data": {
      "text/plain": [
       "'Model mean squared error: 5543.155042160142'"
      ]
     },
     "metadata": {},
     "output_type": "display_data"
    },
    {
     "data": {
      "text/plain": [
       "'Model r2 score: 0.8003902907475544'"
      ]
     },
     "metadata": {},
     "output_type": "display_data"
    }
   ],
   "source": [
    "# Training the model\n",
    "regressor.fit(train_features, train_labels)\n",
    "labels_pred = regressor.predict(test_features)\n",
    "display(f'Model mean squared error: {mean_squared_error(test_labels, labels_pred)}')\n",
    "display(f'Model r2 score: {regressor.score(test_features, test_labels)}')"
   ]
  },
  {
   "cell_type": "markdown",
   "id": "f20ae03b",
   "metadata": {},
   "source": [
    "We see that the model performs much better than the baseline. But can we tune it to do even better?"
   ]
  },
  {
   "cell_type": "markdown",
   "id": "6f9efb1a",
   "metadata": {},
   "source": [
    "### Tuning the model\n",
    "To tune the model's hyperparameters I will use \"RandomizedSearchCV\" class. The problem is  this method requires a lot of computational power when used with big datasets such as ours. To solve this problem I will sample the data. This way this method will still take a lot of time but at least it will be doable."
   ]
  },
  {
   "cell_type": "code",
   "execution_count": 27,
   "id": "bb2baaa6",
   "metadata": {},
   "outputs": [],
   "source": [
    "# Random sampling\n",
    "sample = df_model.sample(12000, random_state=23)"
   ]
  },
  {
   "cell_type": "code",
   "execution_count": 28,
   "id": "1ad3c39c",
   "metadata": {},
   "outputs": [],
   "source": [
    "# Making sets of features and labels\n",
    "sample_features = sample.drop(columns=['realSum'], axis=1)\n",
    "sample_labels = sample['realSum']"
   ]
  },
  {
   "cell_type": "code",
   "execution_count": 29,
   "id": "cfc6e67d",
   "metadata": {},
   "outputs": [],
   "source": [
    "# Splitting the data to train and test\n",
    "train_features_sample, test_features_sample, train_labels_sample, test_labels_sample = train_test_split(sample_features, sample_labels, test_size=0.2)"
   ]
  },
  {
   "cell_type": "code",
   "execution_count": 30,
   "id": "28de7a3d",
   "metadata": {},
   "outputs": [
    {
     "data": {
      "text/plain": [
       "'Sample mean squared error: 9104.669284208334'"
      ]
     },
     "metadata": {},
     "output_type": "display_data"
    },
    {
     "data": {
      "text/plain": [
       "'Sample r2 score0.6705270662266485'"
      ]
     },
     "metadata": {},
     "output_type": "display_data"
    }
   ],
   "source": [
    "# Checking how well stanrard regressor performs on the sample\n",
    "regressor.fit(train_features_sample, train_labels_sample)\n",
    "labels_pred_sample = regressor.predict(test_features_sample)\n",
    "display(f'Sample mean squared error: {mean_squared_error(test_labels_sample, labels_pred_sample)}')\n",
    "display(f'Sample r2 score{r2_score(test_labels_sample, labels_pred_sample)}')"
   ]
  },
  {
   "cell_type": "markdown",
   "id": "2ea97cd4",
   "metadata": {},
   "source": [
    "We see that the model performs worse on the sample data. But if we will be able to tune the model here, then same hyperparameters should work on the main data."
   ]
  },
  {
   "cell_type": "code",
   "execution_count": 31,
   "id": "fb389eba",
   "metadata": {},
   "outputs": [],
   "source": [
    "# Instantiating a random grid with hyperparameters\n",
    "n_estimators = [int(x) for x in np.linspace(200, 2000, 5)]\n",
    "max_features = ['auto', 'sqrt']\n",
    "max_depth = [int(x) for x in np.linspace(10, 70, 5)]\n",
    "max_depth.append(None)\n",
    "min_samples_split = [2, 5, 10]\n",
    "min_samples_leaf = [1, 2, 4]\n",
    "bootstrap = [True, False]\n",
    "\n",
    "random_grid = {\n",
    "    'n_estimators': n_estimators,\n",
    "    'max_features': max_features,\n",
    "    'max_depth': max_depth,\n",
    "    'min_samples_split': min_samples_split,\n",
    "    'min_samples_leaf': min_samples_leaf,\n",
    "    'bootstrap': bootstrap\n",
    "}"
   ]
  },
  {
   "cell_type": "code",
   "execution_count": 32,
   "id": "f76296e3",
   "metadata": {},
   "outputs": [],
   "source": [
    "# Instantiating the RandomizedSearchCV\n",
    "rf_random = RandomizedSearchCV(regressor, \n",
    "                               param_distributions=random_grid, \n",
    "                               n_iter=100, \n",
    "                               cv=5, \n",
    "                               random_state=23, \n",
    "                               verbose=3, \n",
    "                               n_jobs=-1\n",
    "                              )"
   ]
  },
  {
   "cell_type": "markdown",
   "id": "29d37c91",
   "metadata": {},
   "source": [
    "In the code above I used \"verbose=3\" in case my computer won't be able to make the computations."
   ]
  },
  {
   "cell_type": "code",
   "execution_count": 33,
   "id": "395a88e1",
   "metadata": {
    "scrolled": true
   },
   "outputs": [
    {
     "name": "stdout",
     "output_type": "stream",
     "text": [
      "Fitting 5 folds for each of 100 candidates, totalling 500 fits\n",
      "[CV 2/5] END bootstrap=False, max_depth=40, max_features=auto, min_samples_leaf=1, min_samples_split=5, n_estimators=200;, score=0.489 total time=   8.3s\n",
      "[CV 3/5] END bootstrap=True, max_depth=10, max_features=sqrt, min_samples_leaf=4, min_samples_split=10, n_estimators=1100;, score=0.568 total time=   4.8s\n",
      "[CV 1/5] END bootstrap=True, max_depth=70, max_features=sqrt, min_samples_leaf=1, min_samples_split=2, n_estimators=650;, score=0.667 total time=   5.2s\n"
     ]
    },
    {
     "name": "stderr",
     "output_type": "stream",
     "text": [
      "/Users/klimgruzdev/anaconda3/lib/python3.10/site-packages/joblib/externals/loky/process_executor.py:702: UserWarning: A worker stopped while some jobs were given to the executor. This can be caused by a too short worker timeout or by a memory leak.\n",
      "  warnings.warn(\n"
     ]
    },
    {
     "name": "stdout",
     "output_type": "stream",
     "text": [
      "[CV 2/5] END bootstrap=False, max_depth=10, max_features=sqrt, min_samples_leaf=1, min_samples_split=2, n_estimators=650;, score=0.622 total time=   4.1s\n",
      "[CV 4/5] END bootstrap=False, max_depth=10, max_features=sqrt, min_samples_leaf=1, min_samples_split=2, n_estimators=650;, score=0.629 total time=   4.2s\n",
      "[CV 1/5] END bootstrap=True, max_depth=10, max_features=sqrt, min_samples_leaf=4, min_samples_split=10, n_estimators=1100;, score=0.597 total time=   4.8s\n",
      "[CV 4/5] END bootstrap=True, max_depth=10, max_features=sqrt, min_samples_leaf=4, min_samples_split=10, n_estimators=1100;, score=0.617 total time=   4.8s\n",
      "[CV 2/5] END bootstrap=True, max_depth=70, max_features=sqrt, min_samples_leaf=1, min_samples_split=2, n_estimators=650;, score=0.684 total time=   5.4s\n",
      "[CV 1/5] END bootstrap=False, max_depth=10, max_features=sqrt, min_samples_leaf=1, min_samples_split=2, n_estimators=650;, score=0.613 total time=   4.2s\n",
      "[CV 5/5] END bootstrap=False, max_depth=10, max_features=sqrt, min_samples_leaf=1, min_samples_split=2, n_estimators=650;, score=0.627 total time=   4.2s\n",
      "[CV 2/5] END bootstrap=True, max_depth=10, max_features=sqrt, min_samples_leaf=4, min_samples_split=10, n_estimators=1100;, score=0.606 total time=   4.8s\n",
      "[CV 5/5] END bootstrap=True, max_depth=10, max_features=sqrt, min_samples_leaf=4, min_samples_split=10, n_estimators=1100;, score=0.612 total time=   4.9s\n",
      "[CV 3/5] END bootstrap=True, max_depth=70, max_features=sqrt, min_samples_leaf=1, min_samples_split=2, n_estimators=650;, score=0.642 total time=   5.4s\n",
      "[CV 1/5] END bootstrap=False, max_depth=55, max_features=sqrt, min_samples_leaf=4, min_samples_split=5, n_estimators=1100;, score=0.655 total time=   9.4s\n",
      "[CV 4/5] END bootstrap=False, max_depth=55, max_features=sqrt, min_samples_leaf=4, min_samples_split=5, n_estimators=1100;, score=0.672 total time=   9.5s\n",
      "[CV 3/5] END bootstrap=True, max_depth=25, max_features=auto, min_samples_leaf=4, min_samples_split=10, n_estimators=650;, score=0.620 total time=  14.2s\n",
      "[CV 1/5] END bootstrap=False, max_depth=55, max_features=sqrt, min_samples_leaf=2, min_samples_split=10, n_estimators=2000;, score=0.664 total time=  18.5s\n",
      "[CV 4/5] END bootstrap=False, max_depth=55, max_features=sqrt, min_samples_leaf=2, min_samples_split=10, n_estimators=2000;, score=0.679 total time=  19.2s\n",
      "[CV 5/5] END bootstrap=False, max_depth=None, max_features=sqrt, min_samples_leaf=4, min_samples_split=10, n_estimators=650;, score=0.672 total time=   6.4s\n",
      "[CV 1/5] END bootstrap=True, max_depth=25, max_features=auto, min_samples_leaf=1, min_samples_split=2, n_estimators=1550;, score=0.659 total time=  52.0s\n",
      "[CV 4/5] END bootstrap=True, max_depth=70, max_features=sqrt, min_samples_leaf=1, min_samples_split=2, n_estimators=650;, score=0.683 total time=   5.3s\n",
      "[CV 2/5] END bootstrap=False, max_depth=55, max_features=sqrt, min_samples_leaf=4, min_samples_split=5, n_estimators=1100;, score=0.669 total time=   9.3s\n",
      "[CV 5/5] END bootstrap=False, max_depth=55, max_features=sqrt, min_samples_leaf=4, min_samples_split=5, n_estimators=1100;, score=0.674 total time=   9.5s\n",
      "[CV 5/5] END bootstrap=True, max_depth=25, max_features=auto, min_samples_leaf=4, min_samples_split=10, n_estimators=650;, score=0.660 total time=  14.2s\n",
      "[CV 3/5] END bootstrap=False, max_depth=55, max_features=sqrt, min_samples_leaf=2, min_samples_split=10, n_estimators=2000;, score=0.641 total time=  18.5s\n",
      "[CV 1/5] END bootstrap=False, max_depth=None, max_features=sqrt, min_samples_leaf=4, min_samples_split=10, n_estimators=650;, score=0.655 total time=   5.7s\n",
      "[CV 2/5] END bootstrap=False, max_depth=None, max_features=sqrt, min_samples_leaf=4, min_samples_split=10, n_estimators=650;, score=0.667 total time=   5.7s\n",
      "[CV 3/5] END bootstrap=False, max_depth=None, max_features=sqrt, min_samples_leaf=4, min_samples_split=10, n_estimators=650;, score=0.630 total time=   6.0s\n",
      "[CV 4/5] END bootstrap=False, max_depth=None, max_features=sqrt, min_samples_leaf=4, min_samples_split=10, n_estimators=650;, score=0.670 total time=   6.6s\n",
      "[CV 4/5] END bootstrap=False, max_depth=25, max_features=sqrt, min_samples_leaf=4, min_samples_split=10, n_estimators=200;, score=0.667 total time=   1.9s\n",
      "[CV 2/5] END bootstrap=True, max_depth=25, max_features=auto, min_samples_leaf=1, min_samples_split=2, n_estimators=1550;, score=0.670 total time=  51.7s\n",
      "[CV 4/5] END bootstrap=False, max_depth=40, max_features=auto, min_samples_leaf=1, min_samples_split=5, n_estimators=200;, score=0.367 total time=   8.2s\n",
      "[CV 4/5] END bootstrap=True, max_depth=55, max_features=auto, min_samples_leaf=2, min_samples_split=10, n_estimators=1550;, score=0.655 total time=  35.2s\n",
      "[CV 4/5] END bootstrap=True, max_depth=25, max_features=auto, min_samples_leaf=4, min_samples_split=10, n_estimators=650;, score=0.649 total time=  14.1s\n",
      "[CV 2/5] END bootstrap=False, max_depth=55, max_features=sqrt, min_samples_leaf=2, min_samples_split=10, n_estimators=2000;, score=0.678 total time=  18.6s\n",
      "[CV 5/5] END bootstrap=False, max_depth=55, max_features=sqrt, min_samples_leaf=2, min_samples_split=10, n_estimators=2000;, score=0.682 total time=  19.0s\n",
      "[CV 1/5] END bootstrap=False, max_depth=25, max_features=sqrt, min_samples_leaf=4, min_samples_split=10, n_estimators=200;, score=0.653 total time=   2.1s\n",
      "[CV 2/5] END bootstrap=False, max_depth=25, max_features=sqrt, min_samples_leaf=4, min_samples_split=10, n_estimators=200;, score=0.664 total time=   1.9s\n",
      "[CV 3/5] END bootstrap=False, max_depth=25, max_features=sqrt, min_samples_leaf=4, min_samples_split=10, n_estimators=200;, score=0.626 total time=   1.9s\n",
      "[CV 5/5] END bootstrap=False, max_depth=25, max_features=sqrt, min_samples_leaf=4, min_samples_split=10, n_estimators=200;, score=0.671 total time=   1.8s\n",
      "[CV 3/5] END bootstrap=True, max_depth=25, max_features=auto, min_samples_leaf=1, min_samples_split=2, n_estimators=1550;, score=0.634 total time=  51.6s\n",
      "[CV 5/5] END bootstrap=False, max_depth=40, max_features=auto, min_samples_leaf=1, min_samples_split=5, n_estimators=200;, score=0.412 total time=   8.2s\n",
      "[CV 5/5] END bootstrap=True, max_depth=55, max_features=auto, min_samples_leaf=2, min_samples_split=10, n_estimators=1550;, score=0.667 total time=  35.4s\n",
      "[CV 3/5] END bootstrap=False, max_depth=10, max_features=sqrt, min_samples_leaf=4, min_samples_split=2, n_estimators=200;, score=0.574 total time=   1.3s\n",
      "[CV 1/5] END bootstrap=False, max_depth=55, max_features=auto, min_samples_leaf=4, min_samples_split=10, n_estimators=2000;, score=0.509 total time= 1.3min\n",
      "[CV 4/5] END bootstrap=True, max_depth=25, max_features=auto, min_samples_leaf=1, min_samples_split=2, n_estimators=1550;, score=0.663 total time=  51.2s\n",
      "[CV 1/5] END bootstrap=False, max_depth=40, max_features=auto, min_samples_leaf=1, min_samples_split=5, n_estimators=200;, score=0.390 total time=   8.2s\n",
      "[CV 2/5] END bootstrap=True, max_depth=55, max_features=auto, min_samples_leaf=2, min_samples_split=10, n_estimators=1550;, score=0.664 total time=  35.4s\n",
      "[CV 2/5] END bootstrap=False, max_depth=10, max_features=sqrt, min_samples_leaf=4, min_samples_split=2, n_estimators=200;, score=0.614 total time=   1.3s\n",
      "[CV 5/5] END bootstrap=False, max_depth=10, max_features=sqrt, min_samples_leaf=4, min_samples_split=2, n_estimators=200;, score=0.618 total time=   1.3s\n",
      "[CV 3/5] END bootstrap=False, max_depth=55, max_features=auto, min_samples_leaf=4, min_samples_split=10, n_estimators=2000;, score=0.471 total time= 1.3min\n",
      "[CV 5/5] END bootstrap=True, max_depth=25, max_features=auto, min_samples_leaf=1, min_samples_split=2, n_estimators=1550;, score=0.673 total time=  51.3s\n",
      "[CV 2/5] END bootstrap=False, max_depth=55, max_features=auto, min_samples_leaf=4, min_samples_split=5, n_estimators=650;, score=0.500 total time=  26.4s\n",
      "[CV 4/5] END bootstrap=False, max_depth=55, max_features=sqrt, min_samples_leaf=2, min_samples_split=5, n_estimators=1100;, score=0.685 total time=  11.9s\n",
      "[CV 4/5] END bootstrap=False, max_depth=None, max_features=auto, min_samples_leaf=4, min_samples_split=5, n_estimators=1550;, score=0.463 total time= 1.0min\n",
      "[CV 5/5] END bootstrap=False, max_depth=70, max_features=auto, min_samples_leaf=2, min_samples_split=10, n_estimators=1100;, score=0.505 total time=  49.0s\n",
      "[CV 3/5] END bootstrap=False, max_depth=None, max_features=auto, min_samples_leaf=4, min_samples_split=5, n_estimators=1100;, score=0.457 total time=  51.1s\n",
      "[CV 4/5] END bootstrap=False, max_depth=25, max_features=auto, min_samples_leaf=2, min_samples_split=5, n_estimators=2000;, score=0.403 total time= 1.5min\n"
     ]
    },
    {
     "name": "stdout",
     "output_type": "stream",
     "text": [
      "[CV 3/5] END bootstrap=False, max_depth=10, max_features=sqrt, min_samples_leaf=1, min_samples_split=2, n_estimators=650;, score=0.582 total time=   4.2s\n",
      "[CV 1/5] END bootstrap=True, max_depth=55, max_features=auto, min_samples_leaf=2, min_samples_split=10, n_estimators=1550;, score=0.650 total time=  35.4s\n",
      "[CV 2/5] END bootstrap=True, max_depth=25, max_features=auto, min_samples_leaf=4, min_samples_split=10, n_estimators=650;, score=0.659 total time=  14.2s\n",
      "[CV 5/5] END bootstrap=False, max_depth=55, max_features=auto, min_samples_leaf=4, min_samples_split=10, n_estimators=2000;, score=0.516 total time= 1.3min\n",
      "[CV 3/5] END bootstrap=True, max_depth=40, max_features=auto, min_samples_leaf=2, min_samples_split=10, n_estimators=1100;, score=0.627 total time=  30.0s\n",
      "[CV 4/5] END bootstrap=False, max_depth=55, max_features=auto, min_samples_leaf=4, min_samples_split=5, n_estimators=650;, score=0.463 total time=  25.4s\n",
      "[CV 2/5] END bootstrap=True, max_depth=None, max_features=auto, min_samples_leaf=2, min_samples_split=10, n_estimators=200;, score=0.668 total time=   5.1s\n",
      "[CV 5/5] END bootstrap=True, max_depth=None, max_features=auto, min_samples_leaf=2, min_samples_split=10, n_estimators=200;, score=0.663 total time=   5.2s\n",
      "[CV 2/5] END bootstrap=True, max_depth=55, max_features=sqrt, min_samples_leaf=2, min_samples_split=10, n_estimators=2000;, score=0.659 total time=  13.9s\n",
      "[CV 5/5] END bootstrap=True, max_depth=55, max_features=sqrt, min_samples_leaf=2, min_samples_split=10, n_estimators=2000;, score=0.664 total time=  13.4s\n",
      "[CV 3/5] END bootstrap=True, max_depth=25, max_features=sqrt, min_samples_leaf=4, min_samples_split=5, n_estimators=2000;, score=0.614 total time=  12.3s\n",
      "[CV 1/5] END bootstrap=False, max_depth=70, max_features=auto, min_samples_leaf=2, min_samples_split=10, n_estimators=1100;, score=0.466 total time=  48.5s\n",
      "[CV 4/5] END bootstrap=False, max_depth=10, max_features=auto, min_samples_leaf=4, min_samples_split=5, n_estimators=1550;, score=0.521 total time=  52.2s\n",
      "[CV 3/5] END bootstrap=False, max_depth=70, max_features=sqrt, min_samples_leaf=2, min_samples_split=10, n_estimators=1550;, score=0.641 total time=  18.1s\n",
      "[CV 2/5] END bootstrap=False, max_depth=25, max_features=auto, min_samples_leaf=2, min_samples_split=5, n_estimators=2000;, score=0.503 total time= 1.6min\n",
      "[CV 3/5] END bootstrap=False, max_depth=40, max_features=auto, min_samples_leaf=1, min_samples_split=5, n_estimators=200;, score=0.340 total time=   8.2s\n",
      "[CV 3/5] END bootstrap=True, max_depth=55, max_features=auto, min_samples_leaf=2, min_samples_split=10, n_estimators=1550;, score=0.627 total time=  35.4s\n",
      "[CV 1/5] END bootstrap=False, max_depth=10, max_features=sqrt, min_samples_leaf=4, min_samples_split=2, n_estimators=200;, score=0.603 total time=   1.3s\n",
      "[CV 4/5] END bootstrap=False, max_depth=10, max_features=sqrt, min_samples_leaf=4, min_samples_split=2, n_estimators=200;, score=0.623 total time=   1.3s\n",
      "[CV 2/5] END bootstrap=False, max_depth=55, max_features=auto, min_samples_leaf=4, min_samples_split=10, n_estimators=2000;, score=0.509 total time= 1.3min\n",
      "[CV 1/5] END bootstrap=True, max_depth=40, max_features=auto, min_samples_leaf=2, min_samples_split=10, n_estimators=1100;, score=0.650 total time=  30.6s\n",
      "[CV 4/5] END bootstrap=True, max_depth=40, max_features=auto, min_samples_leaf=2, min_samples_split=10, n_estimators=1100;, score=0.655 total time=  27.9s\n",
      "[CV 3/5] END bootstrap=False, max_depth=55, max_features=sqrt, min_samples_leaf=2, min_samples_split=5, n_estimators=1100;, score=0.646 total time=  12.0s\n",
      "[CV 3/5] END bootstrap=False, max_depth=None, max_features=auto, min_samples_leaf=4, min_samples_split=5, n_estimators=1550;, score=0.457 total time= 1.1min\n",
      "[CV 1/5] END bootstrap=False, max_depth=10, max_features=auto, min_samples_leaf=4, min_samples_split=5, n_estimators=1550;, score=0.549 total time=  50.6s\n",
      "[CV 4/5] END bootstrap=False, max_depth=None, max_features=auto, min_samples_leaf=4, min_samples_split=5, n_estimators=1100;, score=0.463 total time=  50.2s\n",
      "[CV 5/5] END bootstrap=False, max_depth=25, max_features=auto, min_samples_leaf=2, min_samples_split=5, n_estimators=2000;, score=0.461 total time= 1.5min\n",
      "[CV 1/5] END bootstrap=False, max_depth=55, max_features=sqrt, min_samples_leaf=2, min_samples_split=5, n_estimators=1100;, score=0.670 total time=  12.0s\n",
      "[CV 3/5] END bootstrap=True, max_depth=None, max_features=auto, min_samples_leaf=2, min_samples_split=10, n_estimators=200;, score=0.626 total time=   5.4s\n",
      "[CV 1/5] END bootstrap=False, max_depth=None, max_features=auto, min_samples_leaf=4, min_samples_split=5, n_estimators=1550;, score=0.495 total time= 1.1min\n",
      "[CV 4/5] END bootstrap=False, max_depth=70, max_features=auto, min_samples_leaf=2, min_samples_split=10, n_estimators=1100;, score=0.457 total time=  48.2s\n",
      "[CV 2/5] END bootstrap=False, max_depth=None, max_features=auto, min_samples_leaf=4, min_samples_split=5, n_estimators=1100;, score=0.501 total time=  52.0s\n",
      "[CV 3/5] END bootstrap=False, max_depth=25, max_features=auto, min_samples_leaf=2, min_samples_split=5, n_estimators=2000;, score=0.382 total time= 1.6min\n",
      "[CV 2/5] END bootstrap=False, max_depth=None, max_features=sqrt, min_samples_leaf=1, min_samples_split=5, n_estimators=650;, score=0.691 total time=   7.7s\n",
      "[CV 5/5] END bootstrap=True, max_depth=70, max_features=sqrt, min_samples_leaf=1, min_samples_split=2, n_estimators=650;, score=0.685 total time=   5.2s\n",
      "[CV 3/5] END bootstrap=False, max_depth=55, max_features=sqrt, min_samples_leaf=4, min_samples_split=5, n_estimators=1100;, score=0.630 total time=   9.3s\n",
      "[CV 1/5] END bootstrap=True, max_depth=25, max_features=auto, min_samples_leaf=4, min_samples_split=10, n_estimators=650;, score=0.645 total time=  14.2s\n",
      "[CV 4/5] END bootstrap=False, max_depth=55, max_features=auto, min_samples_leaf=4, min_samples_split=10, n_estimators=2000;, score=0.480 total time= 1.3min\n",
      "[CV 2/5] END bootstrap=True, max_depth=40, max_features=auto, min_samples_leaf=2, min_samples_split=10, n_estimators=1100;, score=0.664 total time=  30.2s\n",
      "[CV 3/5] END bootstrap=False, max_depth=55, max_features=auto, min_samples_leaf=4, min_samples_split=5, n_estimators=650;, score=0.457 total time=  25.9s\n",
      "[CV 1/5] END bootstrap=True, max_depth=None, max_features=auto, min_samples_leaf=2, min_samples_split=10, n_estimators=200;, score=0.649 total time=   5.0s\n",
      "[CV 4/5] END bootstrap=True, max_depth=None, max_features=auto, min_samples_leaf=2, min_samples_split=10, n_estimators=200;, score=0.653 total time=   5.3s\n",
      "[CV 1/5] END bootstrap=True, max_depth=55, max_features=sqrt, min_samples_leaf=2, min_samples_split=10, n_estimators=2000;, score=0.647 total time=  13.8s\n",
      "[CV 4/5] END bootstrap=True, max_depth=55, max_features=sqrt, min_samples_leaf=2, min_samples_split=10, n_estimators=2000;, score=0.665 total time=  13.4s\n",
      "[CV 2/5] END bootstrap=True, max_depth=25, max_features=sqrt, min_samples_leaf=4, min_samples_split=5, n_estimators=2000;, score=0.650 total time=  12.2s\n",
      "[CV 5/5] END bootstrap=True, max_depth=25, max_features=sqrt, min_samples_leaf=4, min_samples_split=5, n_estimators=2000;, score=0.656 total time=  12.5s\n",
      "[CV 3/5] END bootstrap=False, max_depth=70, max_features=auto, min_samples_leaf=2, min_samples_split=10, n_estimators=1100;, score=0.435 total time=  48.7s\n",
      "[CV 1/5] END bootstrap=False, max_depth=None, max_features=auto, min_samples_leaf=4, min_samples_split=5, n_estimators=1100;, score=0.495 total time=  50.9s\n",
      "[CV 1/5] END bootstrap=False, max_depth=25, max_features=auto, min_samples_leaf=2, min_samples_split=5, n_estimators=2000;, score=0.437 total time= 1.6min\n",
      "[CV 5/5] END bootstrap=False, max_depth=None, max_features=auto, min_samples_leaf=2, min_samples_split=10, n_estimators=650;, score=0.505 total time=  27.8s\n",
      "[CV 3/5] END bootstrap=True, max_depth=40, max_features=auto, min_samples_leaf=1, min_samples_split=10, n_estimators=2000;, score=0.630 total time=  54.5s\n",
      "[CV 2/5] END bootstrap=True, max_depth=70, max_features=auto, min_samples_leaf=2, min_samples_split=10, n_estimators=200;, score=0.668 total time=   5.3s\n",
      "[CV 1/5] END bootstrap=False, max_depth=40, max_features=auto, min_samples_leaf=1, min_samples_split=2, n_estimators=1550;, score=0.384 total time= 1.4min\n"
     ]
    },
    {
     "name": "stdout",
     "output_type": "stream",
     "text": [
      "[CV 4/5] END bootstrap=False, max_depth=55, max_features=auto, min_samples_leaf=4, min_samples_split=10, n_estimators=650;, score=0.480 total time=  26.1s\n",
      "[CV 2/5] END bootstrap=False, max_depth=10, max_features=auto, min_samples_leaf=2, min_samples_split=2, n_estimators=1100;, score=0.577 total time=  34.6s\n",
      "[CV 2/5] END bootstrap=True, max_depth=55, max_features=sqrt, min_samples_leaf=2, min_samples_split=10, n_estimators=650;, score=0.659 total time=   4.4s\n",
      "[CV 5/5] END bootstrap=True, max_depth=55, max_features=sqrt, min_samples_leaf=2, min_samples_split=10, n_estimators=650;, score=0.664 total time=   4.4s\n",
      "[CV 4/5] END bootstrap=True, max_depth=70, max_features=auto, min_samples_leaf=2, min_samples_split=10, n_estimators=200;, score=0.653 total time=   5.1s\n",
      "[CV 3/5] END bootstrap=False, max_depth=40, max_features=auto, min_samples_leaf=1, min_samples_split=2, n_estimators=1550;, score=0.326 total time= 1.3min\n",
      "[CV 3/5] END bootstrap=False, max_depth=None, max_features=sqrt, min_samples_leaf=1, min_samples_split=5, n_estimators=650;, score=0.653 total time=   7.8s\n",
      "[CV 5/5] END bootstrap=False, max_depth=55, max_features=auto, min_samples_leaf=4, min_samples_split=10, n_estimators=650;, score=0.516 total time=  26.4s\n",
      "[CV 3/5] END bootstrap=False, max_depth=10, max_features=auto, min_samples_leaf=2, min_samples_split=2, n_estimators=1100;, score=0.520 total time=  34.4s\n",
      "[CV 3/5] END bootstrap=True, max_depth=55, max_features=sqrt, min_samples_leaf=2, min_samples_split=10, n_estimators=650;, score=0.622 total time=   4.4s\n",
      "[CV 1/5] END bootstrap=True, max_depth=70, max_features=auto, min_samples_leaf=2, min_samples_split=10, n_estimators=200;, score=0.649 total time=   5.3s\n",
      "[CV 5/5] END bootstrap=True, max_depth=70, max_features=auto, min_samples_leaf=2, min_samples_split=10, n_estimators=200;, score=0.663 total time=   5.2s\n",
      "[CV 4/5] END bootstrap=False, max_depth=40, max_features=auto, min_samples_leaf=1, min_samples_split=2, n_estimators=1550;, score=0.346 total time= 1.3min\n",
      "[CV 1/5] END bootstrap=False, max_depth=None, max_features=sqrt, min_samples_leaf=1, min_samples_split=5, n_estimators=650;, score=0.677 total time=   7.7s\n",
      "[CV 3/5] END bootstrap=False, max_depth=55, max_features=auto, min_samples_leaf=4, min_samples_split=10, n_estimators=650;, score=0.471 total time=  26.7s\n",
      "[CV 1/5] END bootstrap=False, max_depth=10, max_features=auto, min_samples_leaf=2, min_samples_split=2, n_estimators=1100;, score=0.523 total time=  34.6s\n",
      "[CV 1/5] END bootstrap=True, max_depth=55, max_features=sqrt, min_samples_leaf=2, min_samples_split=10, n_estimators=650;, score=0.647 total time=   4.4s\n",
      "[CV 4/5] END bootstrap=True, max_depth=55, max_features=sqrt, min_samples_leaf=2, min_samples_split=10, n_estimators=650;, score=0.663 total time=   4.4s\n",
      "[CV 3/5] END bootstrap=True, max_depth=70, max_features=auto, min_samples_leaf=2, min_samples_split=10, n_estimators=200;, score=0.626 total time=   5.2s\n",
      "[CV 2/5] END bootstrap=False, max_depth=40, max_features=auto, min_samples_leaf=1, min_samples_split=2, n_estimators=1550;, score=0.480 total time= 1.4min\n",
      "[CV 5/5] END bootstrap=False, max_depth=55, max_features=auto, min_samples_leaf=4, min_samples_split=5, n_estimators=650;, score=0.500 total time=  26.1s\n",
      "[CV 3/5] END bootstrap=True, max_depth=55, max_features=sqrt, min_samples_leaf=2, min_samples_split=10, n_estimators=2000;, score=0.624 total time=  14.4s\n",
      "[CV 1/5] END bootstrap=True, max_depth=25, max_features=sqrt, min_samples_leaf=4, min_samples_split=5, n_estimators=2000;, score=0.638 total time=  12.4s\n",
      "[CV 4/5] END bootstrap=True, max_depth=25, max_features=sqrt, min_samples_leaf=4, min_samples_split=5, n_estimators=2000;, score=0.656 total time=  12.2s\n",
      "[CV 2/5] END bootstrap=False, max_depth=70, max_features=auto, min_samples_leaf=2, min_samples_split=10, n_estimators=1100;, score=0.532 total time=  49.2s\n",
      "[CV 5/5] END bootstrap=False, max_depth=10, max_features=auto, min_samples_leaf=4, min_samples_split=5, n_estimators=1550;, score=0.543 total time=  52.7s\n",
      "[CV 4/5] END bootstrap=False, max_depth=70, max_features=sqrt, min_samples_leaf=2, min_samples_split=10, n_estimators=1550;, score=0.679 total time=  18.4s\n",
      "[CV 1/5] END bootstrap=True, max_depth=None, max_features=auto, min_samples_leaf=1, min_samples_split=5, n_estimators=1100;, score=0.656 total time=  33.6s\n",
      "[CV 4/5] END bootstrap=True, max_depth=None, max_features=auto, min_samples_leaf=1, min_samples_split=5, n_estimators=1100;, score=0.661 total time=  33.3s\n",
      "[CV 3/5] END bootstrap=False, max_depth=None, max_features=auto, min_samples_leaf=2, min_samples_split=10, n_estimators=650;, score=0.435 total time=  27.8s\n",
      "[CV 1/5] END bootstrap=False, max_depth=55, max_features=auto, min_samples_leaf=4, min_samples_split=10, n_estimators=650;, score=0.509 total time=  26.6s\n",
      "[CV 4/5] END bootstrap=True, max_depth=40, max_features=auto, min_samples_leaf=1, min_samples_split=10, n_estimators=2000;, score=0.657 total time=  54.2s\n",
      "[CV 5/5] END bootstrap=False, max_depth=40, max_features=auto, min_samples_leaf=1, min_samples_split=2, n_estimators=1550;, score=0.397 total time= 1.3min\n",
      "[CV 1/5] END bootstrap=False, max_depth=55, max_features=auto, min_samples_leaf=4, min_samples_split=5, n_estimators=650;, score=0.495 total time=  26.0s\n",
      "[CV 2/5] END bootstrap=False, max_depth=55, max_features=sqrt, min_samples_leaf=2, min_samples_split=5, n_estimators=1100;, score=0.685 total time=  11.9s\n",
      "[CV 2/5] END bootstrap=False, max_depth=None, max_features=auto, min_samples_leaf=4, min_samples_split=5, n_estimators=1550;, score=0.500 total time= 1.1min\n",
      "[CV 2/5] END bootstrap=False, max_depth=10, max_features=auto, min_samples_leaf=4, min_samples_split=5, n_estimators=1550;, score=0.581 total time=  50.6s\n",
      "[CV 5/5] END bootstrap=False, max_depth=None, max_features=auto, min_samples_leaf=4, min_samples_split=5, n_estimators=1100;, score=0.500 total time=  51.1s\n",
      "[CV 2/5] END bootstrap=True, max_depth=None, max_features=auto, min_samples_leaf=1, min_samples_split=5, n_estimators=1100;, score=0.668 total time=  33.6s\n",
      "[CV 5/5] END bootstrap=True, max_depth=None, max_features=auto, min_samples_leaf=1, min_samples_split=5, n_estimators=1100;, score=0.672 total time=  33.5s\n",
      "[CV 4/5] END bootstrap=False, max_depth=None, max_features=auto, min_samples_leaf=2, min_samples_split=10, n_estimators=650;, score=0.457 total time=  27.4s\n",
      "[CV 2/5] END bootstrap=False, max_depth=55, max_features=auto, min_samples_leaf=4, min_samples_split=10, n_estimators=650;, score=0.509 total time=  26.8s\n",
      "[CV 5/5] END bootstrap=True, max_depth=40, max_features=auto, min_samples_leaf=1, min_samples_split=10, n_estimators=2000;, score=0.668 total time=  54.6s\n",
      "[CV 1/5] END bootstrap=True, max_depth=25, max_features=auto, min_samples_leaf=2, min_samples_split=5, n_estimators=1100;, score=0.654 total time=  30.2s\n",
      "[CV 4/5] END bootstrap=True, max_depth=25, max_features=auto, min_samples_leaf=2, min_samples_split=5, n_estimators=1100;, score=0.659 total time=  30.0s\n",
      "[CV 2/5] END bootstrap=False, max_depth=None, max_features=sqrt, min_samples_leaf=1, min_samples_split=10, n_estimators=2000;, score=0.684 total time=  21.7s\n",
      "[CV 5/5] END bootstrap=True, max_depth=40, max_features=auto, min_samples_leaf=2, min_samples_split=10, n_estimators=1100;, score=0.667 total time=  27.8s\n",
      "[CV 5/5] END bootstrap=False, max_depth=55, max_features=sqrt, min_samples_leaf=2, min_samples_split=5, n_estimators=1100;, score=0.689 total time=  11.8s\n",
      "[CV 5/5] END bootstrap=False, max_depth=None, max_features=auto, min_samples_leaf=4, min_samples_split=5, n_estimators=1550;, score=0.500 total time= 1.0min\n",
      "[CV 3/5] END bootstrap=False, max_depth=10, max_features=auto, min_samples_leaf=4, min_samples_split=5, n_estimators=1550;, score=0.530 total time=  50.6s\n",
      "[CV 1/5] END bootstrap=False, max_depth=70, max_features=sqrt, min_samples_leaf=2, min_samples_split=10, n_estimators=1550;, score=0.663 total time=  17.7s\n",
      "[CV 2/5] END bootstrap=False, max_depth=70, max_features=sqrt, min_samples_leaf=2, min_samples_split=10, n_estimators=1550;, score=0.678 total time=  17.8s\n",
      "[CV 5/5] END bootstrap=False, max_depth=70, max_features=sqrt, min_samples_leaf=2, min_samples_split=10, n_estimators=1550;, score=0.682 total time=  17.9s\n",
      "[CV 3/5] END bootstrap=True, max_depth=None, max_features=auto, min_samples_leaf=1, min_samples_split=5, n_estimators=1100;, score=0.633 total time=  33.3s\n",
      "[CV 1/5] END bootstrap=False, max_depth=None, max_features=auto, min_samples_leaf=2, min_samples_split=10, n_estimators=650;, score=0.466 total time=  28.6s\n",
      "[CV 2/5] END bootstrap=False, max_depth=None, max_features=auto, min_samples_leaf=2, min_samples_split=10, n_estimators=650;, score=0.532 total time=  28.4s\n",
      "[CV 5/5] END bootstrap=False, max_depth=None, max_features=sqrt, min_samples_leaf=1, min_samples_split=5, n_estimators=650;, score=0.696 total time=   7.9s\n",
      "[CV 1/5] END bootstrap=True, max_depth=40, max_features=auto, min_samples_leaf=1, min_samples_split=10, n_estimators=2000;, score=0.651 total time=  54.7s\n",
      "[CV 5/5] END bootstrap=False, max_depth=10, max_features=auto, min_samples_leaf=2, min_samples_split=2, n_estimators=1100;, score=0.555 total time=  34.2s\n",
      "[CV 3/5] END bootstrap=True, max_depth=25, max_features=auto, min_samples_leaf=2, min_samples_split=5, n_estimators=1100;, score=0.629 total time=  30.0s\n",
      "[CV 1/5] END bootstrap=False, max_depth=None, max_features=sqrt, min_samples_leaf=1, min_samples_split=10, n_estimators=2000;, score=0.669 total time=  20.6s\n",
      "[CV 3/5] END bootstrap=False, max_depth=None, max_features=sqrt, min_samples_leaf=1, min_samples_split=10, n_estimators=2000;, score=0.646 total time=  21.5s\n",
      "[CV 1/5] END bootstrap=True, max_depth=55, max_features=sqrt, min_samples_leaf=1, min_samples_split=2, n_estimators=200;, score=0.665 total time=   1.8s\n",
      "[CV 2/5] END bootstrap=True, max_depth=55, max_features=sqrt, min_samples_leaf=1, min_samples_split=2, n_estimators=200;, score=0.680 total time=   1.8s\n",
      "[CV 3/5] END bootstrap=True, max_depth=55, max_features=sqrt, min_samples_leaf=1, min_samples_split=2, n_estimators=200;, score=0.640 total time=   1.8s\n",
      "[CV 4/5] END bootstrap=True, max_depth=55, max_features=sqrt, min_samples_leaf=1, min_samples_split=2, n_estimators=200;, score=0.678 total time=   1.8s\n"
     ]
    },
    {
     "name": "stdout",
     "output_type": "stream",
     "text": [
      "[CV 4/5] END bootstrap=False, max_depth=None, max_features=sqrt, min_samples_leaf=1, min_samples_split=5, n_estimators=650;, score=0.691 total time=   8.0s\n",
      "[CV 2/5] END bootstrap=True, max_depth=40, max_features=auto, min_samples_leaf=1, min_samples_split=10, n_estimators=2000;, score=0.666 total time=  54.6s\n",
      "[CV 4/5] END bootstrap=False, max_depth=10, max_features=auto, min_samples_leaf=2, min_samples_split=2, n_estimators=1100;, score=0.519 total time=  34.1s\n",
      "[CV 2/5] END bootstrap=True, max_depth=25, max_features=auto, min_samples_leaf=2, min_samples_split=5, n_estimators=1100;, score=0.669 total time=  30.1s\n",
      "[CV 5/5] END bootstrap=True, max_depth=25, max_features=auto, min_samples_leaf=2, min_samples_split=5, n_estimators=1100;, score=0.671 total time=  30.5s\n",
      "[CV 4/5] END bootstrap=False, max_depth=None, max_features=sqrt, min_samples_leaf=1, min_samples_split=10, n_estimators=2000;, score=0.684 total time=  21.3s\n",
      "[CV 1/5] END bootstrap=False, max_depth=55, max_features=auto, min_samples_leaf=1, min_samples_split=2, n_estimators=650;, score=0.384 total time=  33.4s\n",
      "[CV 5/5] END bootstrap=True, max_depth=55, max_features=sqrt, min_samples_leaf=1, min_samples_split=2, n_estimators=200;, score=0.683 total time=   1.8s\n",
      "[CV 2/5] END bootstrap=False, max_depth=55, max_features=auto, min_samples_leaf=1, min_samples_split=2, n_estimators=650;, score=0.480 total time=  33.9s\n",
      "[CV 1/5] END bootstrap=True, max_depth=40, max_features=auto, min_samples_leaf=2, min_samples_split=10, n_estimators=1550;, score=0.650 total time=  39.8s\n",
      "[CV 4/5] END bootstrap=False, max_depth=55, max_features=auto, min_samples_leaf=1, min_samples_split=2, n_estimators=650;, score=0.347 total time=  34.4s\n",
      "[CV 2/5] END bootstrap=True, max_depth=40, max_features=auto, min_samples_leaf=2, min_samples_split=10, n_estimators=1550;, score=0.664 total time=  39.7s\n",
      "[CV 5/5] END bootstrap=False, max_depth=55, max_features=auto, min_samples_leaf=1, min_samples_split=2, n_estimators=650;, score=0.397 total time=  34.9s\n",
      "[CV 4/5] END bootstrap=False, max_depth=10, max_features=sqrt, min_samples_leaf=2, min_samples_split=2, n_estimators=1550;, score=0.628 total time=  12.1s\n",
      "[CV 5/5] END bootstrap=False, max_depth=70, max_features=auto, min_samples_leaf=1, min_samples_split=2, n_estimators=2000;, score=0.397 total time= 1.8min\n",
      "[CV 3/5] END bootstrap=True, max_depth=40, max_features=auto, min_samples_leaf=2, min_samples_split=10, n_estimators=1550;, score=0.627 total time=  39.5s\n",
      "[CV 1/5] END bootstrap=True, max_depth=70, max_features=sqrt, min_samples_leaf=2, min_samples_split=10, n_estimators=200;, score=0.646 total time=   1.3s\n",
      "[CV 3/5] END bootstrap=True, max_depth=70, max_features=sqrt, min_samples_leaf=2, min_samples_split=10, n_estimators=200;, score=0.620 total time=   1.3s\n",
      "[CV 1/5] END bootstrap=False, max_depth=10, max_features=sqrt, min_samples_leaf=2, min_samples_split=2, n_estimators=1550;, score=0.611 total time=  11.6s\n",
      "[CV 2/5] END bootstrap=False, max_depth=70, max_features=auto, min_samples_leaf=1, min_samples_split=2, n_estimators=2000;, score=0.480 total time= 1.9min\n",
      "[CV 1/5] END bootstrap=True, max_depth=40, max_features=sqrt, min_samples_leaf=1, min_samples_split=2, n_estimators=650;, score=0.667 total time=   6.4s\n",
      "[CV 5/5] END bootstrap=False, max_depth=10, max_features=sqrt, min_samples_leaf=2, min_samples_split=2, n_estimators=1550;, score=0.625 total time=  12.1s\n",
      "[CV 1/5] END bootstrap=True, max_depth=None, max_features=sqrt, min_samples_leaf=2, min_samples_split=5, n_estimators=650;, score=0.654 total time=   5.0s\n",
      "[CV 2/5] END bootstrap=True, max_depth=None, max_features=sqrt, min_samples_leaf=2, min_samples_split=5, n_estimators=650;, score=0.669 total time=   4.7s\n",
      "[CV 3/5] END bootstrap=True, max_depth=None, max_features=sqrt, min_samples_leaf=2, min_samples_split=5, n_estimators=650;, score=0.629 total time=   4.8s\n",
      "[CV 1/5] END bootstrap=True, max_depth=40, max_features=sqrt, min_samples_leaf=4, min_samples_split=5, n_estimators=2000;, score=0.638 total time=  12.9s\n",
      "[CV 4/5] END bootstrap=True, max_depth=40, max_features=sqrt, min_samples_leaf=4, min_samples_split=5, n_estimators=2000;, score=0.656 total time=  13.3s\n",
      "[CV 2/5] END bootstrap=False, max_depth=10, max_features=auto, min_samples_leaf=1, min_samples_split=5, n_estimators=1100;, score=0.574 total time=  35.0s\n",
      "[CV 5/5] END bootstrap=False, max_depth=10, max_features=auto, min_samples_leaf=1, min_samples_split=5, n_estimators=1100;, score=0.533 total time=  36.1s\n",
      "[CV 3/5] END bootstrap=True, max_depth=40, max_features=sqrt, min_samples_leaf=1, min_samples_split=2, n_estimators=650;, score=0.642 total time=   6.5s\n",
      "[CV 1/5] END bootstrap=False, max_depth=25, max_features=sqrt, min_samples_leaf=1, min_samples_split=2, n_estimators=1100;, score=0.680 total time=  15.4s\n",
      "[CV 4/5] END bootstrap=True, max_depth=40, max_features=sqrt, min_samples_leaf=1, min_samples_split=2, n_estimators=650;, score=0.683 total time=   6.5s\n",
      "[CV 2/5] END bootstrap=False, max_depth=25, max_features=sqrt, min_samples_leaf=1, min_samples_split=2, n_estimators=1100;, score=0.696 total time=  15.4s\n",
      "[CV 2/5] END bootstrap=True, max_depth=40, max_features=sqrt, min_samples_leaf=1, min_samples_split=2, n_estimators=650;, score=0.684 total time=   6.1s\n",
      "[CV 5/5] END bootstrap=True, max_depth=40, max_features=sqrt, min_samples_leaf=1, min_samples_split=2, n_estimators=650;, score=0.685 total time=   6.5s\n",
      "[CV 3/5] END bootstrap=False, max_depth=25, max_features=sqrt, min_samples_leaf=1, min_samples_split=2, n_estimators=1100;, score=0.653 total time=  15.4s\n",
      "[CV 5/5] END bootstrap=True, max_depth=None, max_features=sqrt, min_samples_leaf=2, min_samples_split=5, n_estimators=650;, score=0.672 total time=   4.7s\n",
      "[CV 3/5] END bootstrap=True, max_depth=40, max_features=sqrt, min_samples_leaf=4, min_samples_split=5, n_estimators=2000;, score=0.615 total time=  13.1s\n",
      "[CV 1/5] END bootstrap=False, max_depth=10, max_features=auto, min_samples_leaf=1, min_samples_split=5, n_estimators=1100;, score=0.502 total time=  34.9s\n",
      "[CV 4/5] END bootstrap=False, max_depth=10, max_features=auto, min_samples_leaf=1, min_samples_split=5, n_estimators=1100;, score=0.532 total time=  35.5s\n",
      "[CV 1/5] END bootstrap=True, max_depth=40, max_features=auto, min_samples_leaf=2, min_samples_split=5, n_estimators=1550;, score=0.654 total time=  45.1s\n",
      "[CV 2/5] END bootstrap=False, max_depth=70, max_features=sqrt, min_samples_leaf=2, min_samples_split=2, n_estimators=1100;, score=0.685 total time=  12.9s\n",
      "[CV 5/5] END bootstrap=False, max_depth=40, max_features=sqrt, min_samples_leaf=1, min_samples_split=10, n_estimators=1550;, score=0.687 total time=  16.4s\n",
      "[CV 3/5] END bootstrap=True, max_depth=10, max_features=auto, min_samples_leaf=2, min_samples_split=2, n_estimators=1550;, score=0.605 total time=  31.9s\n",
      "[CV 1/5] END bootstrap=True, max_depth=40, max_features=sqrt, min_samples_leaf=2, min_samples_split=10, n_estimators=1550;, score=0.647 total time=  10.2s\n",
      "[CV 2/5] END bootstrap=True, max_depth=40, max_features=sqrt, min_samples_leaf=2, min_samples_split=10, n_estimators=1550;, score=0.659 total time=  10.3s\n",
      "[CV 3/5] END bootstrap=True, max_depth=None, max_features=sqrt, min_samples_leaf=1, min_samples_split=10, n_estimators=1550;, score=0.630 total time=  10.6s\n",
      "[CV 1/5] END bootstrap=False, max_depth=25, max_features=sqrt, min_samples_leaf=4, min_samples_split=5, n_estimators=1100;, score=0.655 total time=  10.4s\n",
      "[CV 4/5] END bootstrap=False, max_depth=25, max_features=sqrt, min_samples_leaf=4, min_samples_split=5, n_estimators=1100;, score=0.672 total time=  10.5s\n",
      "[CV 3/5] END bootstrap=True, max_depth=40, max_features=auto, min_samples_leaf=2, min_samples_split=2, n_estimators=650;, score=0.628 total time=  18.5s\n",
      "[CV 5/5] END bootstrap=False, max_depth=55, max_features=auto, min_samples_leaf=2, min_samples_split=5, n_estimators=1100;, score=0.461 total time=  48.4s\n",
      "[CV 1/5] END bootstrap=True, max_depth=55, max_features=auto, min_samples_leaf=1, min_samples_split=2, n_estimators=1550;, score=0.659 total time=  49.6s\n",
      "[CV 4/5] END bootstrap=True, max_depth=40, max_features=auto, min_samples_leaf=2, min_samples_split=10, n_estimators=1550;, score=0.655 total time=  39.4s\n",
      "[CV 2/5] END bootstrap=True, max_depth=70, max_features=sqrt, min_samples_leaf=2, min_samples_split=10, n_estimators=200;, score=0.656 total time=   1.3s\n",
      "[CV 4/5] END bootstrap=True, max_depth=70, max_features=sqrt, min_samples_leaf=2, min_samples_split=10, n_estimators=200;, score=0.659 total time=   1.3s\n",
      "[CV 2/5] END bootstrap=False, max_depth=10, max_features=sqrt, min_samples_leaf=2, min_samples_split=2, n_estimators=1550;, score=0.619 total time=  11.6s\n",
      "[CV 3/5] END bootstrap=False, max_depth=70, max_features=auto, min_samples_leaf=1, min_samples_split=2, n_estimators=2000;, score=0.326 total time= 1.9min\n",
      "[CV 5/5] END bootstrap=True, max_depth=40, max_features=auto, min_samples_leaf=2, min_samples_split=5, n_estimators=1550;, score=0.670 total time=  45.0s\n",
      "[CV 3/5] END bootstrap=False, max_depth=40, max_features=sqrt, min_samples_leaf=1, min_samples_split=10, n_estimators=1550;, score=0.646 total time=  16.6s\n",
      "[CV 5/5] END bootstrap=True, max_depth=70, max_features=auto, min_samples_leaf=4, min_samples_split=2, n_estimators=1100;, score=0.662 total time=  27.6s\n",
      "[CV 3/5] END bootstrap=True, max_depth=55, max_features=auto, min_samples_leaf=4, min_samples_split=5, n_estimators=1100;, score=0.621 total time=  27.1s\n",
      "[CV 2/5] END bootstrap=True, max_depth=None, max_features=sqrt, min_samples_leaf=1, min_samples_split=10, n_estimators=1550;, score=0.666 total time=  10.6s\n",
      "[CV 5/5] END bootstrap=True, max_depth=40, max_features=auto, min_samples_leaf=1, min_samples_split=5, n_estimators=1550;, score=0.671 total time=  45.1s\n",
      "[CV 1/5] END bootstrap=False, max_depth=25, max_features=sqrt, min_samples_leaf=4, min_samples_split=2, n_estimators=650;, score=0.655 total time=   6.2s\n",
      "[CV 2/5] END bootstrap=False, max_depth=25, max_features=sqrt, min_samples_leaf=4, min_samples_split=2, n_estimators=650;, score=0.669 total time=   6.2s\n",
      "[CV 4/5] END bootstrap=False, max_depth=25, max_features=sqrt, min_samples_leaf=4, min_samples_split=2, n_estimators=650;, score=0.672 total time=   6.2s\n",
      "[CV 2/5] END bootstrap=False, max_depth=70, max_features=sqrt, min_samples_leaf=4, min_samples_split=10, n_estimators=2000;, score=0.668 total time=  18.5s\n",
      "[CV 5/5] END bootstrap=False, max_depth=70, max_features=sqrt, min_samples_leaf=4, min_samples_split=10, n_estimators=2000;, score=0.672 total time=  18.7s\n",
      "[CV 3/5] END bootstrap=True, max_depth=55, max_features=auto, min_samples_leaf=1, min_samples_split=2, n_estimators=1550;, score=0.634 total time=  49.4s\n"
     ]
    },
    {
     "name": "stdout",
     "output_type": "stream",
     "text": [
      "[CV 1/5] END bootstrap=False, max_depth=70, max_features=sqrt, min_samples_leaf=2, min_samples_split=2, n_estimators=1100;, score=0.670 total time=  12.6s\n",
      "[CV 5/5] END bootstrap=False, max_depth=70, max_features=sqrt, min_samples_leaf=2, min_samples_split=2, n_estimators=1100;, score=0.689 total time=  12.8s\n",
      "[CV 3/5] END bootstrap=True, max_depth=70, max_features=auto, min_samples_leaf=4, min_samples_split=2, n_estimators=1100;, score=0.621 total time=  27.7s\n",
      "[CV 1/5] END bootstrap=True, max_depth=55, max_features=auto, min_samples_leaf=4, min_samples_split=5, n_estimators=1100;, score=0.647 total time=  27.4s\n",
      "[CV 3/5] END bootstrap=True, max_depth=40, max_features=sqrt, min_samples_leaf=2, min_samples_split=10, n_estimators=1550;, score=0.624 total time=  10.2s\n",
      "[CV 1/5] END bootstrap=True, max_depth=40, max_features=auto, min_samples_leaf=1, min_samples_split=5, n_estimators=1550;, score=0.656 total time=  45.1s\n",
      "[CV 5/5] END bootstrap=True, max_depth=40, max_features=auto, min_samples_leaf=2, min_samples_split=2, n_estimators=650;, score=0.670 total time=  18.3s\n",
      "[CV 5/5] END bootstrap=False, max_depth=25, max_features=sqrt, min_samples_leaf=4, min_samples_split=2, n_estimators=650;, score=0.675 total time=   6.2s\n",
      "[CV 3/5] END bootstrap=False, max_depth=70, max_features=sqrt, min_samples_leaf=4, min_samples_split=10, n_estimators=2000;, score=0.631 total time=  18.6s\n",
      "[CV 1/5] END bootstrap=False, max_depth=25, max_features=auto, min_samples_leaf=4, min_samples_split=5, n_estimators=1100;, score=0.495 total time=  44.5s\n",
      "[CV 4/5] END bootstrap=True, max_depth=55, max_features=auto, min_samples_leaf=1, min_samples_split=2, n_estimators=1550;, score=0.662 total time=  49.5s\n",
      "[CV 4/5] END bootstrap=True, max_depth=None, max_features=sqrt, min_samples_leaf=2, min_samples_split=5, n_estimators=650;, score=0.670 total time=   4.7s\n",
      "[CV 2/5] END bootstrap=True, max_depth=40, max_features=sqrt, min_samples_leaf=4, min_samples_split=5, n_estimators=2000;, score=0.650 total time=  12.9s\n",
      "[CV 5/5] END bootstrap=True, max_depth=40, max_features=sqrt, min_samples_leaf=4, min_samples_split=5, n_estimators=2000;, score=0.656 total time=  13.3s\n",
      "[CV 3/5] END bootstrap=False, max_depth=10, max_features=auto, min_samples_leaf=1, min_samples_split=5, n_estimators=1100;, score=0.530 total time=  34.7s\n",
      "[CV 1/5] END bootstrap=True, max_depth=25, max_features=sqrt, min_samples_leaf=2, min_samples_split=2, n_estimators=650;, score=0.655 total time=   5.2s\n",
      "[CV 2/5] END bootstrap=True, max_depth=25, max_features=sqrt, min_samples_leaf=2, min_samples_split=2, n_estimators=650;, score=0.671 total time=   4.9s\n",
      "[CV 3/5] END bootstrap=True, max_depth=25, max_features=sqrt, min_samples_leaf=2, min_samples_split=2, n_estimators=650;, score=0.629 total time=   4.9s\n",
      "[CV 4/5] END bootstrap=True, max_depth=25, max_features=sqrt, min_samples_leaf=2, min_samples_split=2, n_estimators=650;, score=0.672 total time=   5.2s\n",
      "[CV 5/5] END bootstrap=True, max_depth=25, max_features=sqrt, min_samples_leaf=2, min_samples_split=2, n_estimators=650;, score=0.673 total time=   5.4s\n",
      "[CV 2/5] END bootstrap=True, max_depth=40, max_features=auto, min_samples_leaf=2, min_samples_split=5, n_estimators=1550;, score=0.669 total time=  45.0s\n",
      "[CV 3/5] END bootstrap=False, max_depth=70, max_features=sqrt, min_samples_leaf=2, min_samples_split=2, n_estimators=1100;, score=0.647 total time=  12.8s\n",
      "[CV 1/5] END bootstrap=True, max_depth=70, max_features=auto, min_samples_leaf=4, min_samples_split=2, n_estimators=1100;, score=0.647 total time=  27.9s\n",
      "[CV 4/5] END bootstrap=True, max_depth=10, max_features=auto, min_samples_leaf=2, min_samples_split=2, n_estimators=1550;, score=0.637 total time=  31.6s\n",
      "[CV 4/5] END bootstrap=True, max_depth=40, max_features=sqrt, min_samples_leaf=2, min_samples_split=10, n_estimators=1550;, score=0.665 total time=  10.2s\n",
      "[CV 2/5] END bootstrap=True, max_depth=40, max_features=auto, min_samples_leaf=1, min_samples_split=5, n_estimators=1550;, score=0.669 total time=  45.2s\n",
      "[CV 1/5] END bootstrap=False, max_depth=55, max_features=auto, min_samples_leaf=2, min_samples_split=5, n_estimators=1100;, score=0.437 total time=  48.7s\n",
      "[CV 2/5] END bootstrap=False, max_depth=25, max_features=auto, min_samples_leaf=4, min_samples_split=5, n_estimators=1100;, score=0.501 total time=  45.0s\n",
      "[CV 5/5] END bootstrap=True, max_depth=55, max_features=auto, min_samples_leaf=1, min_samples_split=2, n_estimators=1550;, score=0.673 total time=  49.8s\n",
      "[CV 5/5] END bootstrap=True, max_depth=40, max_features=auto, min_samples_leaf=2, min_samples_split=10, n_estimators=1550;, score=0.667 total time=  39.6s\n",
      "[CV 5/5] END bootstrap=True, max_depth=70, max_features=sqrt, min_samples_leaf=2, min_samples_split=10, n_estimators=200;, score=0.662 total time=   1.3s\n",
      "[CV 3/5] END bootstrap=False, max_depth=10, max_features=sqrt, min_samples_leaf=2, min_samples_split=2, n_estimators=1550;, score=0.581 total time=  11.7s\n",
      "[CV 4/5] END bootstrap=False, max_depth=70, max_features=auto, min_samples_leaf=1, min_samples_split=2, n_estimators=2000;, score=0.346 total time= 1.9min\n",
      "[CV 4/5] END bootstrap=True, max_depth=40, max_features=auto, min_samples_leaf=2, min_samples_split=5, n_estimators=1550;, score=0.659 total time=  44.7s\n",
      "[CV 1/5] END bootstrap=False, max_depth=40, max_features=sqrt, min_samples_leaf=1, min_samples_split=10, n_estimators=1550;, score=0.669 total time=  16.7s\n",
      "[CV 4/5] END bootstrap=True, max_depth=70, max_features=auto, min_samples_leaf=4, min_samples_split=2, n_estimators=1100;, score=0.650 total time=  27.4s\n",
      "[CV 2/5] END bootstrap=True, max_depth=55, max_features=auto, min_samples_leaf=4, min_samples_split=5, n_estimators=1100;, score=0.660 total time=  27.3s\n",
      "[CV 1/5] END bootstrap=True, max_depth=None, max_features=sqrt, min_samples_leaf=1, min_samples_split=10, n_estimators=1550;, score=0.651 total time=  10.6s\n",
      "[CV 4/5] END bootstrap=True, max_depth=40, max_features=auto, min_samples_leaf=1, min_samples_split=5, n_estimators=1550;, score=0.661 total time=  45.0s\n",
      "[CV 4/5] END bootstrap=False, max_depth=55, max_features=auto, min_samples_leaf=2, min_samples_split=5, n_estimators=1100;, score=0.403 total time=  47.9s\n",
      "[CV 4/5] END bootstrap=False, max_depth=25, max_features=auto, min_samples_leaf=4, min_samples_split=5, n_estimators=1100;, score=0.463 total time=  43.4s\n",
      "[CV 1/5] END bootstrap=False, max_depth=55, max_features=auto, min_samples_leaf=4, min_samples_split=5, n_estimators=1100;, score=0.495 total time=  44.8s\n",
      "[CV 3/5] END bootstrap=False, max_depth=None, max_features=auto, min_samples_leaf=4, min_samples_split=10, n_estimators=1550;, score=0.471 total time= 1.0min\n",
      "[CV 2/5] END bootstrap=True, max_depth=25, max_features=auto, min_samples_leaf=1, min_samples_split=5, n_estimators=200;, score=0.672 total time=   5.8s\n",
      "[CV 5/5] END bootstrap=True, max_depth=25, max_features=auto, min_samples_leaf=1, min_samples_split=5, n_estimators=200;, score=0.668 total time=   5.8s\n",
      "[CV 1/5] END bootstrap=True, max_depth=None, max_features=sqrt, min_samples_leaf=1, min_samples_split=10, n_estimators=200;, score=0.649 total time=   1.4s\n",
      "[CV 2/5] END bootstrap=True, max_depth=None, max_features=sqrt, min_samples_leaf=1, min_samples_split=10, n_estimators=200;, score=0.661 total time=   1.4s\n",
      "[CV 3/5] END bootstrap=True, max_depth=None, max_features=sqrt, min_samples_leaf=1, min_samples_split=10, n_estimators=200;, score=0.627 total time=   1.4s\n",
      "[CV 4/5] END bootstrap=True, max_depth=None, max_features=sqrt, min_samples_leaf=1, min_samples_split=10, n_estimators=200;, score=0.666 total time=   1.4s\n",
      "[CV 5/5] END bootstrap=True, max_depth=None, max_features=sqrt, min_samples_leaf=1, min_samples_split=10, n_estimators=200;, score=0.668 total time=   1.4s\n",
      "[CV 1/5] END bootstrap=True, max_depth=25, max_features=sqrt, min_samples_leaf=1, min_samples_split=2, n_estimators=1550;, score=0.668 total time=  14.1s\n",
      "[CV 1/5] END bootstrap=False, max_depth=None, max_features=auto, min_samples_leaf=4, min_samples_split=10, n_estimators=1550;, score=0.509 total time= 1.0min\n",
      "[CV 4/5] END bootstrap=True, max_depth=None, max_features=auto, min_samples_leaf=4, min_samples_split=2, n_estimators=2000;, score=0.650 total time=  48.8s\n",
      "[CV 2/5] END bootstrap=True, max_depth=25, max_features=sqrt, min_samples_leaf=1, min_samples_split=2, n_estimators=1550;, score=0.683 total time=  14.1s\n"
     ]
    },
    {
     "name": "stdout",
     "output_type": "stream",
     "text": [
      "[CV 1/5] END bootstrap=False, max_depth=10, max_features=sqrt, min_samples_leaf=4, min_samples_split=5, n_estimators=1100;, score=0.604 total time=   7.7s\n",
      "[CV 4/5] END bootstrap=False, max_depth=10, max_features=sqrt, min_samples_leaf=4, min_samples_split=5, n_estimators=1100;, score=0.623 total time=   7.7s\n",
      "[CV 2/5] END bootstrap=True, max_depth=None, max_features=auto, min_samples_leaf=4, min_samples_split=2, n_estimators=2000;, score=0.661 total time=  49.4s\n",
      "[CV 3/5] END bootstrap=False, max_depth=None, max_features=auto, min_samples_leaf=2, min_samples_split=2, n_estimators=1550;, score=0.369 total time= 1.2min\n",
      "[CV 4/5] END bootstrap=False, max_depth=55, max_features=auto, min_samples_leaf=4, min_samples_split=5, n_estimators=1100;, score=0.463 total time=  43.4s\n",
      "[CV 2/5] END bootstrap=False, max_depth=10, max_features=sqrt, min_samples_leaf=4, min_samples_split=5, n_estimators=1100;, score=0.615 total time=   7.7s\n",
      "[CV 5/5] END bootstrap=False, max_depth=10, max_features=sqrt, min_samples_leaf=4, min_samples_split=5, n_estimators=1100;, score=0.620 total time=   7.7s\n",
      "[CV 3/5] END bootstrap=True, max_depth=None, max_features=auto, min_samples_leaf=4, min_samples_split=2, n_estimators=2000;, score=0.622 total time=  49.3s\n",
      "[CV 4/5] END bootstrap=False, max_depth=None, max_features=auto, min_samples_leaf=2, min_samples_split=2, n_estimators=1550;, score=0.400 total time= 1.2min\n",
      "[CV 2/5] END bootstrap=False, max_depth=None, max_features=auto, min_samples_leaf=4, min_samples_split=10, n_estimators=1550;, score=0.509 total time= 1.0min\n",
      "[CV 5/5] END bootstrap=True, max_depth=None, max_features=auto, min_samples_leaf=4, min_samples_split=2, n_estimators=2000;, score=0.662 total time=  49.3s\n",
      "[CV 1/5] END bootstrap=False, max_depth=55, max_features=auto, min_samples_leaf=2, min_samples_split=2, n_estimators=1550;, score=0.434 total time= 1.2min\n",
      "[CV 5/5] END bootstrap=False, max_depth=None, max_features=sqrt, min_samples_leaf=1, min_samples_split=10, n_estimators=2000;, score=0.687 total time=  21.1s\n",
      "[CV 3/5] END bootstrap=False, max_depth=55, max_features=auto, min_samples_leaf=1, min_samples_split=2, n_estimators=650;, score=0.326 total time=  33.6s\n",
      "[CV 1/5] END bootstrap=False, max_depth=70, max_features=auto, min_samples_leaf=1, min_samples_split=2, n_estimators=2000;, score=0.384 total time= 2.0min\n",
      "[CV 3/5] END bootstrap=True, max_depth=40, max_features=auto, min_samples_leaf=2, min_samples_split=5, n_estimators=1550;, score=0.630 total time=  45.1s\n",
      "[CV 2/5] END bootstrap=False, max_depth=40, max_features=sqrt, min_samples_leaf=1, min_samples_split=10, n_estimators=1550;, score=0.684 total time=  17.1s\n",
      "[CV 1/5] END bootstrap=True, max_depth=10, max_features=auto, min_samples_leaf=2, min_samples_split=2, n_estimators=1550;, score=0.622 total time=  32.2s\n",
      "[CV 4/5] END bootstrap=True, max_depth=55, max_features=auto, min_samples_leaf=4, min_samples_split=5, n_estimators=1100;, score=0.650 total time=  27.1s\n",
      "[CV 4/5] END bootstrap=True, max_depth=None, max_features=sqrt, min_samples_leaf=1, min_samples_split=10, n_estimators=1550;, score=0.669 total time=  10.5s\n",
      "[CV 2/5] END bootstrap=False, max_depth=25, max_features=sqrt, min_samples_leaf=4, min_samples_split=5, n_estimators=1100;, score=0.669 total time=  10.5s\n",
      "[CV 5/5] END bootstrap=False, max_depth=25, max_features=sqrt, min_samples_leaf=4, min_samples_split=5, n_estimators=1100;, score=0.675 total time=  10.5s\n",
      "[CV 2/5] END bootstrap=True, max_depth=40, max_features=auto, min_samples_leaf=2, min_samples_split=2, n_estimators=650;, score=0.670 total time=  18.6s\n",
      "[CV 3/5] END bootstrap=False, max_depth=55, max_features=auto, min_samples_leaf=2, min_samples_split=5, n_estimators=1100;, score=0.382 total time=  48.5s\n",
      "[CV 5/5] END bootstrap=False, max_depth=25, max_features=auto, min_samples_leaf=4, min_samples_split=5, n_estimators=1100;, score=0.500 total time=  43.9s\n",
      "[CV 3/5] END bootstrap=False, max_depth=55, max_features=auto, min_samples_leaf=4, min_samples_split=5, n_estimators=1100;, score=0.457 total time=  44.5s\n",
      "[CV 4/5] END bootstrap=False, max_depth=None, max_features=auto, min_samples_leaf=4, min_samples_split=10, n_estimators=1550;, score=0.480 total time= 1.0min\n",
      "[CV 1/5] END bootstrap=True, max_depth=25, max_features=auto, min_samples_leaf=1, min_samples_split=5, n_estimators=200;, score=0.655 total time=   5.8s\n",
      "[CV 4/5] END bootstrap=True, max_depth=25, max_features=auto, min_samples_leaf=1, min_samples_split=5, n_estimators=200;, score=0.659 total time=   5.8s\n",
      "[CV 5/5] END bootstrap=False, max_depth=None, max_features=auto, min_samples_leaf=2, min_samples_split=2, n_estimators=1550;, score=0.450 total time= 1.2min\n",
      "[CV 3/5] END bootstrap=False, max_depth=None, max_features=auto, min_samples_leaf=2, min_samples_split=5, n_estimators=2000;, score=0.382 total time= 1.5min\n",
      "[CV 1/5] END bootstrap=False, max_depth=70, max_features=sqrt, min_samples_leaf=1, min_samples_split=2, n_estimators=650;, score=0.681 total time=   9.1s\n",
      "[CV 1/5] END bootstrap=False, max_depth=None, max_features=auto, min_samples_leaf=2, min_samples_split=5, n_estimators=2000;, score=0.437 total time= 1.5min\n",
      "[CV 4/5] END bootstrap=True, max_depth=55, max_features=auto, min_samples_leaf=1, min_samples_split=5, n_estimators=1100;, score=0.661 total time=  33.3s\n",
      "[CV 4/5] END bootstrap=True, max_depth=25, max_features=auto, min_samples_leaf=2, min_samples_split=2, n_estimators=1100;, score=0.660 total time=  32.0s\n",
      "[CV 2/5] END bootstrap=True, max_depth=55, max_features=sqrt, min_samples_leaf=1, min_samples_split=2, n_estimators=2000;, score=0.684 total time=  18.8s\n",
      "[CV 3/5] END bootstrap=True, max_depth=25, max_features=sqrt, min_samples_leaf=1, min_samples_split=2, n_estimators=1550;, score=0.644 total time=  14.0s\n",
      "[CV 5/5] END bootstrap=True, max_depth=25, max_features=sqrt, min_samples_leaf=1, min_samples_split=2, n_estimators=1550;, score=0.686 total time=  14.3s\n",
      "[CV 3/5] END bootstrap=False, max_depth=55, max_features=auto, min_samples_leaf=2, min_samples_split=2, n_estimators=1550;, score=0.369 total time= 1.2min\n",
      "[CV 1/5] END bootstrap=False, max_depth=25, max_features=sqrt, min_samples_leaf=2, min_samples_split=10, n_estimators=650;, score=0.663 total time=   6.5s\n",
      "[CV 2/5] END bootstrap=False, max_depth=25, max_features=sqrt, min_samples_leaf=2, min_samples_split=10, n_estimators=650;, score=0.678 total time=   6.6s\n",
      "[CV 3/5] END bootstrap=False, max_depth=25, max_features=sqrt, min_samples_leaf=2, min_samples_split=10, n_estimators=650;, score=0.641 total time=   6.7s\n",
      "[CV 1/5] END bootstrap=True, max_depth=70, max_features=sqrt, min_samples_leaf=1, min_samples_split=5, n_estimators=650;, score=0.660 total time=   5.0s\n",
      "[CV 4/5] END bootstrap=True, max_depth=70, max_features=sqrt, min_samples_leaf=1, min_samples_split=5, n_estimators=650;, score=0.679 total time=   5.0s\n",
      "[CV 2/5] END bootstrap=True, max_depth=55, max_features=auto, min_samples_leaf=1, min_samples_split=5, n_estimators=1100;, score=0.668 total time=  34.2s\n",
      "[CV 5/5] END bootstrap=False, max_depth=70, max_features=sqrt, min_samples_leaf=1, min_samples_split=2, n_estimators=650;, score=0.700 total time=   9.6s\n",
      "[CV 5/5] END bootstrap=True, max_depth=25, max_features=auto, min_samples_leaf=2, min_samples_split=2, n_estimators=1100;, score=0.671 total time=  32.2s\n",
      "[CV 3/5] END bootstrap=True, max_depth=55, max_features=sqrt, min_samples_leaf=1, min_samples_split=2, n_estimators=2000;, score=0.643 total time=  18.7s\n",
      "[CV 2/5] END bootstrap=False, max_depth=None, max_features=auto, min_samples_leaf=2, min_samples_split=5, n_estimators=2000;, score=0.502 total time= 1.5min\n",
      "[CV 5/5] END bootstrap=True, max_depth=55, max_features=auto, min_samples_leaf=1, min_samples_split=5, n_estimators=1100;, score=0.672 total time=  33.5s\n",
      "[CV 1/5] END bootstrap=False, max_depth=55, max_features=auto, min_samples_leaf=4, min_samples_split=2, n_estimators=200;, score=0.495 total time=   8.4s\n",
      "[CV 4/5] END bootstrap=False, max_depth=55, max_features=auto, min_samples_leaf=4, min_samples_split=2, n_estimators=200;, score=0.463 total time=   8.2s\n",
      "[CV 2/5] END bootstrap=True, max_depth=25, max_features=auto, min_samples_leaf=1, min_samples_split=10, n_estimators=1550;, score=0.665 total time=  42.7s\n",
      "[CV 3/5] END bootstrap=True, max_depth=None, max_features=auto, min_samples_leaf=1, min_samples_split=2, n_estimators=2000;, score=0.634 total time= 1.1min\n"
     ]
    },
    {
     "name": "stdout",
     "output_type": "stream",
     "text": [
      "[CV 4/5] END bootstrap=False, max_depth=None, max_features=auto, min_samples_leaf=2, min_samples_split=5, n_estimators=2000;, score=0.403 total time= 1.5min\n",
      "[CV 2/5] END bootstrap=False, max_depth=55, max_features=auto, min_samples_leaf=4, min_samples_split=2, n_estimators=200;, score=0.500 total time=   8.4s\n",
      "[CV 5/5] END bootstrap=False, max_depth=55, max_features=auto, min_samples_leaf=4, min_samples_split=2, n_estimators=200;, score=0.500 total time=   8.5s\n",
      "[CV 3/5] END bootstrap=True, max_depth=25, max_features=auto, min_samples_leaf=1, min_samples_split=10, n_estimators=1550;, score=0.630 total time=  42.4s\n",
      "[CV 4/5] END bootstrap=True, max_depth=None, max_features=auto, min_samples_leaf=1, min_samples_split=2, n_estimators=2000;, score=0.662 total time= 1.1min\n",
      "[CV 2/5] END bootstrap=False, max_depth=40, max_features=auto, min_samples_leaf=4, min_samples_split=5, n_estimators=1550;, score=0.500 total time= 1.1min\n",
      "[CV 1/5] END bootstrap=False, max_depth=70, max_features=sqrt, min_samples_leaf=1, min_samples_split=2, n_estimators=1100;, score=0.680 total time=  15.2s\n",
      "[CV 2/5] END bootstrap=False, max_depth=70, max_features=sqrt, min_samples_leaf=1, min_samples_split=2, n_estimators=650;, score=0.698 total time=   9.1s\n",
      "[CV 3/5] END bootstrap=False, max_depth=70, max_features=sqrt, min_samples_leaf=1, min_samples_split=2, n_estimators=650;, score=0.656 total time=   9.4s\n",
      "[CV 2/5] END bootstrap=True, max_depth=25, max_features=auto, min_samples_leaf=2, min_samples_split=2, n_estimators=1100;, score=0.669 total time=  32.3s\n",
      "[CV 5/5] END bootstrap=True, max_depth=25, max_features=auto, min_samples_leaf=1, min_samples_split=10, n_estimators=1550;, score=0.668 total time=  42.8s\n",
      "[CV 3/5] END bootstrap=False, max_depth=70, max_features=sqrt, min_samples_leaf=2, min_samples_split=2, n_estimators=650;, score=0.646 total time=   7.7s\n",
      "[CV 1/5] END bootstrap=True, max_depth=40, max_features=sqrt, min_samples_leaf=1, min_samples_split=10, n_estimators=650;, score=0.651 total time=   4.6s\n",
      "[CV 3/5] END bootstrap=True, max_depth=40, max_features=sqrt, min_samples_leaf=1, min_samples_split=10, n_estimators=650;, score=0.630 total time=   4.6s\n",
      "[CV 1/5] END bootstrap=False, max_depth=25, max_features=sqrt, min_samples_leaf=4, min_samples_split=2, n_estimators=200;, score=0.654 total time=   2.0s\n",
      "[CV 3/5] END bootstrap=False, max_depth=25, max_features=sqrt, min_samples_leaf=4, min_samples_split=2, n_estimators=200;, score=0.628 total time=   2.0s\n",
      "[CV 1/5] END bootstrap=False, max_depth=25, max_features=sqrt, min_samples_leaf=4, min_samples_split=10, n_estimators=650;, score=0.654 total time=   6.3s\n",
      "[CV 4/5] END bootstrap=False, max_depth=25, max_features=sqrt, min_samples_leaf=4, min_samples_split=10, n_estimators=650;, score=0.670 total time=   6.3s\n",
      "[CV 2/5] END bootstrap=False, max_depth=10, max_features=auto, min_samples_leaf=2, min_samples_split=2, n_estimators=1550;, score=0.576 total time=  49.2s\n",
      "[CV 5/5] END bootstrap=False, max_depth=40, max_features=auto, min_samples_leaf=4, min_samples_split=5, n_estimators=1550;, score=0.500 total time= 1.0min\n",
      "[CV 4/5] END bootstrap=False, max_depth=40, max_features=auto, min_samples_leaf=2, min_samples_split=2, n_estimators=1100;, score=0.401 total time=  49.6s\n",
      "[CV 5/5] END bootstrap=False, max_depth=70, max_features=sqrt, min_samples_leaf=4, min_samples_split=10, n_estimators=1100;, score=0.672 total time=  10.2s\n",
      "[CV 3/5] END bootstrap=True, max_depth=40, max_features=auto, min_samples_leaf=1, min_samples_split=2, n_estimators=2000;, score=0.634 total time= 1.1min\n"
     ]
    },
    {
     "data": {
      "text/plain": [
       "RandomizedSearchCV(cv=5, estimator=RandomForestRegressor(random_state=23),\n",
       "                   n_iter=100, n_jobs=-1,\n",
       "                   param_distributions={'bootstrap': [True, False],\n",
       "                                        'max_depth': [10, 25, 40, 55, 70, None],\n",
       "                                        'max_features': ['auto', 'sqrt'],\n",
       "                                        'min_samples_leaf': [1, 2, 4],\n",
       "                                        'min_samples_split': [2, 5, 10],\n",
       "                                        'n_estimators': [200, 650, 1100, 1550,\n",
       "                                                         2000]},\n",
       "                   random_state=23, verbose=3)"
      ]
     },
     "execution_count": 33,
     "metadata": {},
     "output_type": "execute_result"
    }
   ],
   "source": [
    "# Fitting the data\n",
    "rf_random.fit(train_features_sample, train_labels_sample)"
   ]
  },
  {
   "cell_type": "markdown",
   "id": "65c0a1d8",
   "metadata": {},
   "source": [
    "Now let's look at the best estimators and it's score:"
   ]
  },
  {
   "cell_type": "code",
   "execution_count": 38,
   "id": "1a72c2f5",
   "metadata": {
    "scrolled": false
   },
   "outputs": [
    {
     "data": {
      "text/plain": [
       "RandomForestRegressor(bootstrap=False, max_depth=70, max_features='sqrt',\n",
       "                      n_estimators=650, random_state=23)"
      ]
     },
     "metadata": {},
     "output_type": "display_data"
    },
    {
     "data": {
      "text/plain": [
       "0.684919461628757"
      ]
     },
     "metadata": {},
     "output_type": "display_data"
    }
   ],
   "source": [
    "# Displaying the results\n",
    "display(rf_random.best_estimator_)\n",
    "display(rf_random.best_score_)"
   ]
  },
  {
   "cell_type": "markdown",
   "id": "e99bb2f4",
   "metadata": {},
   "source": [
    "***\n",
    "The model performs 1% better with these hyperparameters. Let's see if the model will do the same with the whole dataset."
   ]
  },
  {
   "cell_type": "code",
   "execution_count": 42,
   "id": "9cf00163",
   "metadata": {},
   "outputs": [],
   "source": [
    "# Instantiating new model\n",
    "regressor_tweaked = RandomForestRegressor(\n",
    "    bootstrap=False, \n",
    "    max_depth=70, \n",
    "    max_features='sqrt', \n",
    "    n_estimators=650, \n",
    "    random_state=23\n",
    ")"
   ]
  },
  {
   "cell_type": "code",
   "execution_count": 43,
   "id": "7d1e9c2f",
   "metadata": {},
   "outputs": [
    {
     "data": {
      "text/plain": [
       "RandomForestRegressor(bootstrap=False, max_depth=70, max_features='sqrt',\n",
       "                      n_estimators=650, random_state=23)"
      ]
     },
     "execution_count": 43,
     "metadata": {},
     "output_type": "execute_result"
    }
   ],
   "source": [
    "# Fitting the new model\n",
    "regressor_tweaked.fit(train_features, train_labels)"
   ]
  },
  {
   "cell_type": "code",
   "execution_count": 57,
   "id": "6de4938d",
   "metadata": {
    "scrolled": true
   },
   "outputs": [
    {
     "name": "stdout",
     "output_type": "stream",
     "text": [
      "Score: 0.8115511243147494\n"
     ]
    }
   ],
   "source": [
    "# Printing score\n",
    "tweaked_score = regressor_tweaked.score(test_features, test_labels)\n",
    "print(f'Score: {tweaked_score}')"
   ]
  },
  {
   "cell_type": "code",
   "execution_count": 56,
   "id": "b1c7aeee",
   "metadata": {},
   "outputs": [
    {
     "data": {
      "text/plain": [
       "'Mean squared error: 5233.219062119888'"
      ]
     },
     "metadata": {},
     "output_type": "display_data"
    }
   ],
   "source": [
    "# Printing mean squared error\n",
    "labels_tweaked_pred = regressor_tweaked.predict(test_features)\n",
    "\n",
    "display(f'Mean squared error: {mean_squared_error(test_labels, labels_tweaked_pred)}')"
   ]
  },
  {
   "cell_type": "markdown",
   "id": "c60d9d16",
   "metadata": {},
   "source": [
    "We see that the model itself also improved it's score by more than 1%. It is possible to increase this number even more by using GridSearchCV to tune the model."
   ]
  },
  {
   "cell_type": "markdown",
   "id": "c13a7616",
   "metadata": {},
   "source": [
    "## Inspecting feature importance\n",
    "Now let's look into the decision trees of our random forest, so the model would be less of a black box it is now."
   ]
  },
  {
   "cell_type": "code",
   "execution_count": 52,
   "id": "9ed575fd",
   "metadata": {
    "scrolled": false
   },
   "outputs": [
    {
     "data": {
      "text/plain": [
       "'Feature importances:'"
      ]
     },
     "metadata": {},
     "output_type": "display_data"
    },
    {
     "data": {
      "text/plain": [
       "[('person_capacity', 0.07515713529143728),\n",
       " ('host_is_superhost', 0.008391976645237631),\n",
       " ('multi', 0.008632126517995251),\n",
       " ('biz', 0.01349921632634647),\n",
       " ('guest_satisfaction_overall', 0.048009137921399846),\n",
       " ('bedrooms', 0.09013682883712103),\n",
       " ('dist', 0.08895192739181759),\n",
       " ('metro_dist', 0.07237361196177233),\n",
       " ('attr_index_norm', 0.20689605277565332),\n",
       " ('rest_index_norm', 0.09966573501062367),\n",
       " ('room_type_Private room', 0.06838657821660883),\n",
       " ('geo_athens', 0.03893545523013995),\n",
       " ('geo_barcelona', 0.009962131224514247),\n",
       " ('geo_berlin', 0.008876957108183564),\n",
       " ('geo_budapest', 0.03843986063637368),\n",
       " ('geo_lisbon', 0.013186908984639189),\n",
       " ('geo_london', 0.03706174453695912),\n",
       " ('geo_paris', 0.03130574276648652),\n",
       " ('geo_rome', 0.0294134317251337),\n",
       " ('geo_vienna', 0.006946824177501454),\n",
       " ('week_weekends', 0.005770616714055382)]"
      ]
     },
     "metadata": {},
     "output_type": "display_data"
    }
   ],
   "source": [
    "# Printing feature importances\n",
    "feature_importances = list(zip(regressor_tweaked.feature_names_in_, regressor_tweaked.feature_importances_))\n",
    "display('Feature importances:')\n",
    "display(feature_importances)"
   ]
  },
  {
   "cell_type": "markdown",
   "id": "f5fd8cb7",
   "metadata": {},
   "source": [
    "## Overview\n",
    "The project aimed to predict Airbnb prices in Europe using machine learning algorithm. The random forest regressor model performed well having <b>mean squared score of 5233</b> and <b>R2 score of 0.81</b>. However, there is still room for improvement. Techniques like GridSearchCV can be used to fine-tune the model's hyperparameters. Additionally, incorporating other relevant features and exploring alternative algorithms and ensemble methods could further enhance the accuracy of predictions. Overall, the project provides valuable insights for Airbnb hosts and travelers in the European market, with potential for further refinement and optimization."
   ]
  }
 ],
 "metadata": {
  "kernelspec": {
   "display_name": "Python 3 (ipykernel)",
   "language": "python",
   "name": "python3"
  },
  "language_info": {
   "codemirror_mode": {
    "name": "ipython",
    "version": 3
   },
   "file_extension": ".py",
   "mimetype": "text/x-python",
   "name": "python",
   "nbconvert_exporter": "python",
   "pygments_lexer": "ipython3",
   "version": "3.10.8"
  }
 },
 "nbformat": 4,
 "nbformat_minor": 5
}
